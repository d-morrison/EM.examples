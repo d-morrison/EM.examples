{
 "cells": [
  {
   "cell_type": "code",
   "execution_count": 10,
   "metadata": {},
   "outputs": [],
   "source": [
    "using DataFrames, Distributions, DataFramesMeta"
   ]
  },
  {
   "cell_type": "code",
   "execution_count": 11,
   "metadata": {},
   "outputs": [
    {
     "data": {
      "text/plain": [
       "gen_data (generic function with 1 method)"
      ]
     },
     "execution_count": 11,
     "metadata": {},
     "output_type": "execute_result"
    }
   ],
   "source": [
    "function gen_data(\n",
    "    ; \n",
    "    n = 500000, \n",
    "    mu = [0, 2], \n",
    "    sigma = 1, \n",
    "    pZ1 = 0.8)\n",
    "    \n",
    "    data = DataFrame(\n",
    "        Obs_ID = 1:n,\n",
    "        Z = (rand(Uniform(0,1), n) .> pZ1) .+ 1\n",
    "        )\n",
    "\n",
    "    @transform!(data, :Y = rand(Normal(0, sigma), n) + mu[:Z])    \n",
    "    @select!(data, :Obs_ID, :Y)\n",
    "    @transform!(data, :p_Y_given_Z_1 = pdf.(Normal(mu[1], sigma), :Y))\n",
    "    @transform!(data, :p_Y_given_Z_2 = pdf.(Normal(mu[2], sigma), :Y))\n",
    "\n",
    "    return data\n",
    "  end"
   ]
  },
  {
   "cell_type": "code",
   "execution_count": 12,
   "metadata": {},
   "outputs": [
    {
     "data": {
      "text/html": [
       "<div class=\"data-frame\"><p>6 rows × 4 columns</p><table class=\"data-frame\"><thead><tr><th></th><th>Obs_ID</th><th>Y</th><th>p_Y_given_Z_1</th><th>p_Y_given_Z_2</th></tr><tr><th></th><th title=\"Int64\">Int64</th><th title=\"Float64\">Float64</th><th title=\"Float64\">Float64</th><th title=\"Float64\">Float64</th></tr></thead><tbody><tr><th>1</th><td>1</td><td>3.33422</td><td>0.00153772</td><td>0.163816</td></tr><tr><th>2</th><td>2</td><td>0.507834</td><td>0.350678</td><td>0.131044</td></tr><tr><th>3</th><td>3</td><td>-0.849431</td><td>0.278119</td><td>0.00688392</td></tr><tr><th>4</th><td>4</td><td>-0.803331</td><td>0.288919</td><td>0.00784193</td></tr><tr><th>5</th><td>5</td><td>-1.98068</td><td>0.0561076</td><td>0.000144556</td></tr><tr><th>6</th><td>6</td><td>0.150476</td><td>0.394451</td><td>0.0721284</td></tr></tbody></table></div>"
      ],
      "text/latex": [
       "\\begin{tabular}{r|cccc}\n",
       "\t& Obs\\_ID & Y & p\\_Y\\_given\\_Z\\_1 & p\\_Y\\_given\\_Z\\_2\\\\\n",
       "\t\\hline\n",
       "\t& Int64 & Float64 & Float64 & Float64\\\\\n",
       "\t\\hline\n",
       "\t1 & 1 & 3.33422 & 0.00153772 & 0.163816 \\\\\n",
       "\t2 & 2 & 0.507834 & 0.350678 & 0.131044 \\\\\n",
       "\t3 & 3 & -0.849431 & 0.278119 & 0.00688392 \\\\\n",
       "\t4 & 4 & -0.803331 & 0.288919 & 0.00784193 \\\\\n",
       "\t5 & 5 & -1.98068 & 0.0561076 & 0.000144556 \\\\\n",
       "\t6 & 6 & 0.150476 & 0.394451 & 0.0721284 \\\\\n",
       "\\end{tabular}\n"
      ],
      "text/plain": [
       "\u001b[1m6×4 DataFrame\u001b[0m\n",
       "\u001b[1m Row \u001b[0m│\u001b[1m Obs_ID \u001b[0m\u001b[1m Y         \u001b[0m\u001b[1m p_Y_given_Z_1 \u001b[0m\u001b[1m p_Y_given_Z_2 \u001b[0m\n",
       "\u001b[1m     \u001b[0m│\u001b[90m Int64  \u001b[0m\u001b[90m Float64   \u001b[0m\u001b[90m Float64       \u001b[0m\u001b[90m Float64       \u001b[0m\n",
       "─────┼─────────────────────────────────────────────────\n",
       "   1 │      1   3.33422      0.00153772    0.163816\n",
       "   2 │      2   0.507834     0.350678      0.131044\n",
       "   3 │      3  -0.849431     0.278119      0.00688392\n",
       "   4 │      4  -0.803331     0.288919      0.00784193\n",
       "   5 │      5  -1.98068      0.0561076     0.000144556\n",
       "   6 │      6   0.150476     0.394451      0.0721284"
      ]
     },
     "execution_count": 12,
     "metadata": {},
     "output_type": "execute_result"
    }
   ],
   "source": [
    "data = gen_data(n = 500000, pZ1 = 0.8);\n",
    "first(data, 6)"
   ]
  },
  {
   "cell_type": "code",
   "execution_count": 13,
   "metadata": {},
   "outputs": [
    {
     "data": {
      "text/plain": [
       "fit_model! (generic function with 1 method)"
      ]
     },
     "execution_count": 13,
     "metadata": {},
     "output_type": "execute_result"
    }
   ],
   "source": [
    "function fit_model!(\n",
    "    data; \n",
    "    pi_hat_0 = 0.5, \n",
    "    tolerance = 0.0001,\n",
    "    max_iterations = 1000,\n",
    "    progress = DataFrame(\n",
    "        iter = 0:max_iterations, \n",
    "        pi_hat = Vector{Float64}(undef, max_iterations+1), \n",
    "        ll = Vector{Float64}(undef, max_iterations+1), \n",
    "        ll_diff = Vector{Float64}(undef, max_iterations+1)\n",
    "        ),\n",
    "    verbose = false\n",
    "    )\n",
    "\n",
    "    # initial E step, to perform needed calculations for initial likelihood:\n",
    "    E_step!(data, pi_hat_0) \n",
    "    ll = loglik(data)\n",
    "    progress[1, :] = (0, pi_hat_0, ll, NaN)\n",
    "    \n",
    "    last_iter = 0\n",
    "    for i in 1:max_iterations\n",
    "\n",
    "        # M step: re-estimate parameters\n",
    "        pi_hat = M_step(data)\n",
    "\n",
    "        # E step: re-compute distribution of missing variables, using parameters\n",
    "        E_step!(data, pi_hat)\n",
    "        \n",
    "        # Assess convergence\n",
    "\n",
    "        ## save the previous log-likelihood so we can test for convergence\n",
    "        ll_old = ll\n",
    "        \n",
    "        ## here's the new log-likelihood\n",
    "        ll = loglik(data)\n",
    "\n",
    "        ll_diff = ll - ll_old\n",
    "        \n",
    "        progress[i+1,:] = (i, pi_hat, ll, ll_diff)\n",
    "        if(verbose)\n",
    "            print(progress[i+1,:])\n",
    "        end\n",
    "        \n",
    "        if ll_diff < tolerance\n",
    "            last_iter = i\n",
    "            break\n",
    "        end\n",
    "    end\n",
    "    return progress[1:(last_iter + 1), :]\n",
    "end"
   ]
  },
  {
   "cell_type": "code",
   "execution_count": 14,
   "metadata": {},
   "outputs": [
    {
     "data": {
      "text/plain": [
       "E_step! (generic function with 1 method)"
      ]
     },
     "execution_count": 14,
     "metadata": {},
     "output_type": "execute_result"
    }
   ],
   "source": [
    "function E_step!(data, pi_hat)\n",
    "    @transform!(data, :pY_Z1 = :p_Y_given_Z_1 .* pi_hat)\n",
    "    @transform!(data, :pY_Z2 = :p_Y_given_Z_2 .* (1- pi_hat))\n",
    "    @transform!(data, :pY = :pY_Z1 + :pY_Z2)\n",
    "    @transform!(data, :pZ1_given_Y = :pY_Z1 ./ :pY)\n",
    "end"
   ]
  },
  {
   "cell_type": "code",
   "execution_count": 15,
   "metadata": {},
   "outputs": [
    {
     "data": {
      "text/plain": [
       "M_step (generic function with 1 method)"
      ]
     },
     "execution_count": 15,
     "metadata": {},
     "output_type": "execute_result"
    }
   ],
   "source": [
    "function M_step(data)\n",
    "    data[:, :pZ1_given_Y] |> mean\n",
    "end"
   ]
  },
  {
   "cell_type": "code",
   "execution_count": 16,
   "metadata": {},
   "outputs": [
    {
     "data": {
      "text/plain": [
       "loglik (generic function with 1 method)"
      ]
     },
     "execution_count": 16,
     "metadata": {},
     "output_type": "execute_result"
    }
   ],
   "source": [
    "function loglik(data)\n",
    "    data[:, :pY] .|> log |> sum\n",
    "end"
   ]
  },
  {
   "cell_type": "code",
   "execution_count": 17,
   "metadata": {},
   "outputs": [
    {
     "name": "stdout",
     "output_type": "stream",
     "text": [
      "  0.567804 seconds (881.08 k allocations: 550.465 MiB, 40.88% gc time, 36.13% compilation time)\n"
     ]
    }
   ],
   "source": [
    "@time progress = fit_model!(data, tolerance = .00001);\n"
   ]
  },
  {
   "attachments": {},
   "cell_type": "markdown",
   "metadata": {},
   "source": [
    "The first run requires compilation; on subsequent calls it will be faster:"
   ]
  },
  {
   "cell_type": "code",
   "execution_count": 18,
   "metadata": {},
   "outputs": [
    {
     "name": "stdout",
     "output_type": "stream",
     "text": [
      "  0.156007 seconds (13.08 k allocations: 504.204 MiB, 18.83% gc time)\n"
     ]
    },
    {
     "data": {
      "text/html": [
       "<div class=\"data-frame\"><p>19 rows × 4 columns</p><table class=\"data-frame\"><thead><tr><th></th><th>iter</th><th>pi_hat</th><th>ll</th><th>ll_diff</th></tr><tr><th></th><th title=\"Int64\">Int64</th><th title=\"Float64\">Float64</th><th title=\"Float64\">Float64</th><th title=\"Float64\">Float64</th></tr></thead><tbody><tr><th>1</th><td>0</td><td>0.5</td><td>-8.77311e5</td><td>NaN</td></tr><tr><th>2</th><td>1</td><td>0.665296</td><td>-8.36758e5</td><td>40553.1</td></tr><tr><th>3</th><td>2</td><td>0.7376</td><td>-8.27786e5</td><td>8972.27</td></tr><tr><th>4</th><td>3</td><td>0.770088</td><td>-8.25704e5</td><td>2081.69</td></tr><tr><th>5</th><td>4</td><td>0.785471</td><td>-8.25196e5</td><td>508.161</td></tr><tr><th>6</th><td>5</td><td>0.793015</td><td>-8.25068e5</td><td>128.053</td></tr><tr><th>7</th><td>6</td><td>0.796789</td><td>-825035.0</td><td>32.8407</td></tr><tr><th>8</th><td>7</td><td>0.798697</td><td>-8.25027e5</td><td>8.50124</td></tr><tr><th>9</th><td>8</td><td>0.799667</td><td>-8.25024e5</td><td>2.21134</td></tr><tr><th>10</th><td>9</td><td>0.800161</td><td>-8.25024e5</td><td>0.576654</td></tr><tr><th>11</th><td>10</td><td>0.800414</td><td>-8.25024e5</td><td>0.150567</td></tr><tr><th>12</th><td>11</td><td>0.800543</td><td>-8.25024e5</td><td>0.0393398</td></tr><tr><th>13</th><td>12</td><td>0.800609</td><td>-8.25024e5</td><td>0.0102821</td></tr><tr><th>14</th><td>13</td><td>0.800642</td><td>-8.25024e5</td><td>0.00268783</td></tr><tr><th>15</th><td>14</td><td>0.800659</td><td>-8.25024e5</td><td>0.000702689</td></tr><tr><th>16</th><td>15</td><td>0.800668</td><td>-8.25024e5</td><td>0.000183714</td></tr><tr><th>17</th><td>16</td><td>0.800673</td><td>-8.25024e5</td><td>4.80325e-5</td></tr><tr><th>18</th><td>17</td><td>0.800675</td><td>-8.25024e5</td><td>1.25582e-5</td></tr><tr><th>19</th><td>18</td><td>0.800676</td><td>-8.25024e5</td><td>3.28338e-6</td></tr></tbody></table></div>"
      ],
      "text/latex": [
       "\\begin{tabular}{r|cccc}\n",
       "\t& iter & pi\\_hat & ll & ll\\_diff\\\\\n",
       "\t\\hline\n",
       "\t& Int64 & Float64 & Float64 & Float64\\\\\n",
       "\t\\hline\n",
       "\t1 & 0 & 0.5 & -8.77311e5 & NaN \\\\\n",
       "\t2 & 1 & 0.665296 & -8.36758e5 & 40553.1 \\\\\n",
       "\t3 & 2 & 0.7376 & -8.27786e5 & 8972.27 \\\\\n",
       "\t4 & 3 & 0.770088 & -8.25704e5 & 2081.69 \\\\\n",
       "\t5 & 4 & 0.785471 & -8.25196e5 & 508.161 \\\\\n",
       "\t6 & 5 & 0.793015 & -8.25068e5 & 128.053 \\\\\n",
       "\t7 & 6 & 0.796789 & -825035.0 & 32.8407 \\\\\n",
       "\t8 & 7 & 0.798697 & -8.25027e5 & 8.50124 \\\\\n",
       "\t9 & 8 & 0.799667 & -8.25024e5 & 2.21134 \\\\\n",
       "\t10 & 9 & 0.800161 & -8.25024e5 & 0.576654 \\\\\n",
       "\t11 & 10 & 0.800414 & -8.25024e5 & 0.150567 \\\\\n",
       "\t12 & 11 & 0.800543 & -8.25024e5 & 0.0393398 \\\\\n",
       "\t13 & 12 & 0.800609 & -8.25024e5 & 0.0102821 \\\\\n",
       "\t14 & 13 & 0.800642 & -8.25024e5 & 0.00268783 \\\\\n",
       "\t15 & 14 & 0.800659 & -8.25024e5 & 0.000702689 \\\\\n",
       "\t16 & 15 & 0.800668 & -8.25024e5 & 0.000183714 \\\\\n",
       "\t17 & 16 & 0.800673 & -8.25024e5 & 4.80325e-5 \\\\\n",
       "\t18 & 17 & 0.800675 & -8.25024e5 & 1.25582e-5 \\\\\n",
       "\t19 & 18 & 0.800676 & -8.25024e5 & 3.28338e-6 \\\\\n",
       "\\end{tabular}\n"
      ],
      "text/plain": [
       "\u001b[1m19×4 DataFrame\u001b[0m\n",
       "\u001b[1m Row \u001b[0m│\u001b[1m iter  \u001b[0m\u001b[1m pi_hat   \u001b[0m\u001b[1m ll              \u001b[0m\u001b[1m ll_diff         \u001b[0m\n",
       "\u001b[1m     \u001b[0m│\u001b[90m Int64 \u001b[0m\u001b[90m Float64  \u001b[0m\u001b[90m Float64         \u001b[0m\u001b[90m Float64         \u001b[0m\n",
       "─────┼───────────────────────────────────────────────────\n",
       "   1 │     0  0.5            -8.77311e5    NaN\n",
       "   2 │     1  0.665296       -8.36758e5  40553.1\n",
       "   3 │     2  0.7376         -8.27786e5   8972.27\n",
       "   4 │     3  0.770088       -8.25704e5   2081.69\n",
       "   5 │     4  0.785471       -8.25196e5    508.161\n",
       "   6 │     5  0.793015       -8.25068e5    128.053\n",
       "   7 │     6  0.796789  -825035.0           32.8407\n",
       "   8 │     7  0.798697       -8.25027e5      8.50124\n",
       "   9 │     8  0.799667       -8.25024e5      2.21134\n",
       "  10 │     9  0.800161       -8.25024e5      0.576654\n",
       "  11 │    10  0.800414       -8.25024e5      0.150567\n",
       "  12 │    11  0.800543       -8.25024e5      0.0393398\n",
       "  13 │    12  0.800609       -8.25024e5      0.0102821\n",
       "  14 │    13  0.800642       -8.25024e5      0.00268783\n",
       "  15 │    14  0.800659       -8.25024e5      0.000702689\n",
       "  16 │    15  0.800668       -8.25024e5      0.000183714\n",
       "  17 │    16  0.800673       -8.25024e5      4.80325e-5\n",
       "  18 │    17  0.800675       -8.25024e5      1.25582e-5\n",
       "  19 │    18  0.800676       -8.25024e5      3.28338e-6"
      ]
     },
     "execution_count": 18,
     "metadata": {},
     "output_type": "execute_result"
    }
   ],
   "source": [
    "@time progress = fit_model!(data, tolerance = .00001)"
   ]
  }
 ],
 "metadata": {
  "kernelspec": {
   "display_name": "Julia 1.8.1",
   "language": "julia",
   "name": "julia-1.8"
  },
  "language_info": {
   "file_extension": ".jl",
   "mimetype": "application/julia",
   "name": "julia",
   "version": "1.8.1"
  },
  "orig_nbformat": 4,
  "vscode": {
   "interpreter": {
    "hash": "80e1c376cdf93d711d123c45e2b6c6b654e50bddcaa1ec7b85cafe02fb52c70e"
   }
  }
 },
 "nbformat": 4,
 "nbformat_minor": 2
}
