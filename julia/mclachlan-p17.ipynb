{
 "cells": [
  {
   "cell_type": "code",
   "execution_count": 1,
   "metadata": {},
   "outputs": [],
   "source": [
    "using DataFrames, Distributions, DataFramesMeta"
   ]
  },
  {
   "cell_type": "code",
   "execution_count": 2,
   "metadata": {},
   "outputs": [
    {
     "data": {
      "text/plain": [
       "gen_data (generic function with 1 method)"
      ]
     },
     "execution_count": 2,
     "metadata": {},
     "output_type": "execute_result"
    }
   ],
   "source": [
    "function gen_data(\n",
    "    ; \n",
    "    n = 500000, \n",
    "    mu = [0, 2], \n",
    "    sigma = 1, \n",
    "    pZ1 = 0.8)\n",
    "    \n",
    "    data = DataFrame(\n",
    "        Obs_ID = 1:n,\n",
    "        Z = (rand(Uniform(0,1), n) .> pZ1) .+ 1\n",
    "        )\n",
    "\n",
    "    @transform!(data, :Y = rand(Normal(0, sigma), n) + mu[:Z])    \n",
    "    @select!(data, :Obs_ID, :Y)\n",
    "    @transform!(data, :p_Y_given_Z_1 = pdf.(Normal(mu[1], sigma), :Y))\n",
    "    @transform!(data, :p_Y_given_Z_2 = pdf.(Normal(mu[2], sigma), :Y))\n",
    "\n",
    "    return data\n",
    "  end"
   ]
  },
  {
   "cell_type": "code",
   "execution_count": 3,
   "metadata": {},
   "outputs": [
    {
     "data": {
      "text/html": [
       "<div class=\"data-frame\"><p>6 rows × 4 columns</p><table class=\"data-frame\"><thead><tr><th></th><th>Obs_ID</th><th>Y</th><th>p_Y_given_Z_1</th><th>p_Y_given_Z_2</th></tr><tr><th></th><th title=\"Int64\">Int64</th><th title=\"Float64\">Float64</th><th title=\"Float64\">Float64</th><th title=\"Float64\">Float64</th></tr></thead><tbody><tr><th>1</th><td>1</td><td>1.09989</td><td>0.217879</td><td>0.266058</td></tr><tr><th>2</th><td>2</td><td>-1.01589</td><td>0.238127</td><td>0.00422506</td></tr><tr><th>3</th><td>3</td><td>0.142769</td><td>0.394897</td><td>0.0711054</td></tr><tr><th>4</th><td>4</td><td>-0.503979</td><td>0.351363</td><td>0.0173547</td></tr><tr><th>5</th><td>5</td><td>-1.80176</td><td>0.0787001</td><td>0.000289999</td></tr><tr><th>6</th><td>6</td><td>-0.302201</td><td>0.381135</td><td>0.0281839</td></tr></tbody></table></div>"
      ],
      "text/latex": [
       "\\begin{tabular}{r|cccc}\n",
       "\t& Obs\\_ID & Y & p\\_Y\\_given\\_Z\\_1 & p\\_Y\\_given\\_Z\\_2\\\\\n",
       "\t\\hline\n",
       "\t& Int64 & Float64 & Float64 & Float64\\\\\n",
       "\t\\hline\n",
       "\t1 & 1 & 1.09989 & 0.217879 & 0.266058 \\\\\n",
       "\t2 & 2 & -1.01589 & 0.238127 & 0.00422506 \\\\\n",
       "\t3 & 3 & 0.142769 & 0.394897 & 0.0711054 \\\\\n",
       "\t4 & 4 & -0.503979 & 0.351363 & 0.0173547 \\\\\n",
       "\t5 & 5 & -1.80176 & 0.0787001 & 0.000289999 \\\\\n",
       "\t6 & 6 & -0.302201 & 0.381135 & 0.0281839 \\\\\n",
       "\\end{tabular}\n"
      ],
      "text/plain": [
       "\u001b[1m6×4 DataFrame\u001b[0m\n",
       "\u001b[1m Row \u001b[0m│\u001b[1m Obs_ID \u001b[0m\u001b[1m Y         \u001b[0m\u001b[1m p_Y_given_Z_1 \u001b[0m\u001b[1m p_Y_given_Z_2 \u001b[0m\n",
       "\u001b[1m     \u001b[0m│\u001b[90m Int64  \u001b[0m\u001b[90m Float64   \u001b[0m\u001b[90m Float64       \u001b[0m\u001b[90m Float64       \u001b[0m\n",
       "─────┼─────────────────────────────────────────────────\n",
       "   1 │      1   1.09989       0.217879     0.266058\n",
       "   2 │      2  -1.01589       0.238127     0.00422506\n",
       "   3 │      3   0.142769      0.394897     0.0711054\n",
       "   4 │      4  -0.503979      0.351363     0.0173547\n",
       "   5 │      5  -1.80176       0.0787001    0.000289999\n",
       "   6 │      6  -0.302201      0.381135     0.0281839"
      ]
     },
     "execution_count": 3,
     "metadata": {},
     "output_type": "execute_result"
    }
   ],
   "source": [
    "data = gen_data(n = 500000, pZ1 = 0.8);\n",
    "first(data, 6)"
   ]
  },
  {
   "cell_type": "code",
   "execution_count": 4,
   "metadata": {},
   "outputs": [
    {
     "data": {
      "text/plain": [
       "fit_model! (generic function with 1 method)"
      ]
     },
     "execution_count": 4,
     "metadata": {},
     "output_type": "execute_result"
    }
   ],
   "source": [
    "function fit_model!(\n",
    "    data; \n",
    "    pi_hat_0 = 0.5, \n",
    "    tolerance = 0.0001,\n",
    "    max_iterations = 1000,\n",
    "    progress = DataFrame(\n",
    "        iter = 0:max_iterations, \n",
    "        pi_hat = Vector{Float64}(undef, max_iterations+1), \n",
    "        ll = Vector{Float64}(undef, max_iterations+1), \n",
    "        ll_diff = Vector{Float64}(undef, max_iterations+1)\n",
    "        )\n",
    "    )\n",
    "\n",
    "    pi_hat = pi_hat_0\n",
    "    E_step!(data, pi_hat)\n",
    "    ll = loglik(data)\n",
    "    progress[1,:] = (0, pi_hat, ll, NaN)\n",
    "    \n",
    "    last_iter = 0\n",
    "    for i in 1:max_iterations\n",
    "        pi_hat = M_step(data)\n",
    "        E_step!(data, pi_hat)\n",
    "        \n",
    "        ll_old = ll\n",
    "        ll = loglik(data)\n",
    "        ll_diff = ll - ll_old\n",
    "        progress[i+1,:] = (i, pi_hat, ll, ll_diff)\n",
    "\n",
    "        if ll_diff < tolerance\n",
    "            last_iter = i\n",
    "            break\n",
    "        end\n",
    "    end\n",
    "    return progress[1:(last_iter + 1), :]\n",
    "end"
   ]
  },
  {
   "cell_type": "code",
   "execution_count": 5,
   "metadata": {},
   "outputs": [
    {
     "data": {
      "text/plain": [
       "E_step! (generic function with 1 method)"
      ]
     },
     "execution_count": 5,
     "metadata": {},
     "output_type": "execute_result"
    }
   ],
   "source": [
    "function E_step!(data, pi_hat)\n",
    "    @transform!(data, :pY_Z1 = :p_Y_given_Z_1 .* pi_hat)\n",
    "    @transform!(data, :pY_Z2 = :p_Y_given_Z_2 .* (1- pi_hat))\n",
    "    @transform!(data, :pY = :pY_Z1 + :pY_Z2)\n",
    "    @transform!(data, :pZ1_given_Y = :pY_Z1 ./ :pY)\n",
    "end"
   ]
  },
  {
   "cell_type": "code",
   "execution_count": 6,
   "metadata": {},
   "outputs": [
    {
     "data": {
      "text/plain": [
       "M_step (generic function with 1 method)"
      ]
     },
     "execution_count": 6,
     "metadata": {},
     "output_type": "execute_result"
    }
   ],
   "source": [
    "function M_step(data)\n",
    "    mean(data[!, :pZ1_given_Y])\n",
    "end"
   ]
  },
  {
   "cell_type": "code",
   "execution_count": 7,
   "metadata": {},
   "outputs": [
    {
     "data": {
      "text/plain": [
       "loglik (generic function with 1 method)"
      ]
     },
     "execution_count": 7,
     "metadata": {},
     "output_type": "execute_result"
    }
   ],
   "source": [
    "function loglik(data)\n",
    "    sum(log.(data[!, :pY]))\n",
    "end"
   ]
  },
  {
   "cell_type": "code",
   "execution_count": 8,
   "metadata": {},
   "outputs": [
    {
     "name": "stdout",
     "output_type": "stream",
     "text": [
      "  0.762566 seconds (3.18 M allocations: 533.191 MiB, 7.85% gc time, 81.76% compilation time)\n"
     ]
    }
   ],
   "source": [
    "@time progress = fit_model!(data, tolerance = .00001);\n"
   ]
  },
  {
   "attachments": {},
   "cell_type": "markdown",
   "metadata": {},
   "source": [
    "The first run requires compilation; on subsequent calls it will be faster:"
   ]
  },
  {
   "cell_type": "code",
   "execution_count": 9,
   "metadata": {},
   "outputs": [
    {
     "data": {
      "text/html": [
       "<div class=\"data-frame\"><p>19 rows × 4 columns</p><table class=\"data-frame\"><thead><tr><th></th><th>iter</th><th>pi_hat</th><th>ll</th><th>ll_diff</th></tr><tr><th></th><th title=\"Int64\">Int64</th><th title=\"Float64\">Float64</th><th title=\"Float64\">Float64</th><th title=\"Float64\">Float64</th></tr></thead><tbody><tr><th>1</th><td>0</td><td>0.5</td><td>-8.77993e5</td><td>NaN</td></tr><tr><th>2</th><td>1</td><td>0.665352</td><td>-8.37441e5</td><td>40552.6</td></tr><tr><th>3</th><td>2</td><td>0.737508</td><td>-8.28514e5</td><td>8927.04</td></tr><tr><th>4</th><td>3</td><td>0.769835</td><td>-8.26456e5</td><td>2058.07</td></tr><tr><th>5</th><td>4</td><td>0.785092</td><td>-8.25957e5</td><td>498.837</td></tr><tr><th>6</th><td>5</td><td>0.792549</td><td>-8.25832e5</td><td>124.751</td></tr><tr><th>7</th><td>6</td><td>0.796264</td><td>-8.258e5</td><td>31.7409</td></tr><tr><th>8</th><td>7</td><td>0.798135</td><td>-8.25792e5</td><td>8.14987</td></tr><tr><th>9</th><td>8</td><td>0.799083</td><td>-8.2579e5</td><td>2.10247</td></tr><tr><th>10</th><td>9</td><td>0.799564</td><td>-8.2579e5</td><td>0.543701</td></tr><tr><th>11</th><td>10</td><td>0.799808</td><td>-8.25789e5</td><td>0.140776</td></tr><tr><th>12</th><td>11</td><td>0.799933</td><td>-8.25789e5</td><td>0.0364729</td></tr><tr><th>13</th><td>12</td><td>0.799996</td><td>-8.25789e5</td><td>0.00945264</td></tr><tr><th>14</th><td>13</td><td>0.800028</td><td>-8.25789e5</td><td>0.00245023</td></tr><tr><th>15</th><td>14</td><td>0.800045</td><td>-8.25789e5</td><td>0.000635179</td></tr><tr><th>16</th><td>15</td><td>0.800053</td><td>-8.25789e5</td><td>0.000164666</td></tr><tr><th>17</th><td>16</td><td>0.800057</td><td>-8.25789e5</td><td>4.26897e-5</td></tr><tr><th>18</th><td>17</td><td>0.800059</td><td>-8.25789e5</td><td>1.10674e-5</td></tr><tr><th>19</th><td>18</td><td>0.80006</td><td>-8.25789e5</td><td>2.86917e-6</td></tr></tbody></table></div>"
      ],
      "text/latex": [
       "\\begin{tabular}{r|cccc}\n",
       "\t& iter & pi\\_hat & ll & ll\\_diff\\\\\n",
       "\t\\hline\n",
       "\t& Int64 & Float64 & Float64 & Float64\\\\\n",
       "\t\\hline\n",
       "\t1 & 0 & 0.5 & -8.77993e5 & NaN \\\\\n",
       "\t2 & 1 & 0.665352 & -8.37441e5 & 40552.6 \\\\\n",
       "\t3 & 2 & 0.737508 & -8.28514e5 & 8927.04 \\\\\n",
       "\t4 & 3 & 0.769835 & -8.26456e5 & 2058.07 \\\\\n",
       "\t5 & 4 & 0.785092 & -8.25957e5 & 498.837 \\\\\n",
       "\t6 & 5 & 0.792549 & -8.25832e5 & 124.751 \\\\\n",
       "\t7 & 6 & 0.796264 & -8.258e5 & 31.7409 \\\\\n",
       "\t8 & 7 & 0.798135 & -8.25792e5 & 8.14987 \\\\\n",
       "\t9 & 8 & 0.799083 & -8.2579e5 & 2.10247 \\\\\n",
       "\t10 & 9 & 0.799564 & -8.2579e5 & 0.543701 \\\\\n",
       "\t11 & 10 & 0.799808 & -8.25789e5 & 0.140776 \\\\\n",
       "\t12 & 11 & 0.799933 & -8.25789e5 & 0.0364729 \\\\\n",
       "\t13 & 12 & 0.799996 & -8.25789e5 & 0.00945264 \\\\\n",
       "\t14 & 13 & 0.800028 & -8.25789e5 & 0.00245023 \\\\\n",
       "\t15 & 14 & 0.800045 & -8.25789e5 & 0.000635179 \\\\\n",
       "\t16 & 15 & 0.800053 & -8.25789e5 & 0.000164666 \\\\\n",
       "\t17 & 16 & 0.800057 & -8.25789e5 & 4.26897e-5 \\\\\n",
       "\t18 & 17 & 0.800059 & -8.25789e5 & 1.10674e-5 \\\\\n",
       "\t19 & 18 & 0.80006 & -8.25789e5 & 2.86917e-6 \\\\\n",
       "\\end{tabular}\n"
      ],
      "text/plain": [
       "\u001b[1m19×4 DataFrame\u001b[0m\n",
       "\u001b[1m Row \u001b[0m│\u001b[1m iter  \u001b[0m\u001b[1m pi_hat   \u001b[0m\u001b[1m ll         \u001b[0m\u001b[1m ll_diff         \u001b[0m\n",
       "\u001b[1m     \u001b[0m│\u001b[90m Int64 \u001b[0m\u001b[90m Float64  \u001b[0m\u001b[90m Float64    \u001b[0m\u001b[90m Float64         \u001b[0m\n",
       "─────┼──────────────────────────────────────────────\n",
       "   1 │     0  0.5       -8.77993e5    NaN\n",
       "   2 │     1  0.665352  -8.37441e5  40552.6\n",
       "   3 │     2  0.737508  -8.28514e5   8927.04\n",
       "   4 │     3  0.769835  -8.26456e5   2058.07\n",
       "   5 │     4  0.785092  -8.25957e5    498.837\n",
       "   6 │     5  0.792549  -8.25832e5    124.751\n",
       "   7 │     6  0.796264  -8.258e5       31.7409\n",
       "   8 │     7  0.798135  -8.25792e5      8.14987\n",
       "   9 │     8  0.799083  -8.2579e5       2.10247\n",
       "  10 │     9  0.799564  -8.2579e5       0.543701\n",
       "  11 │    10  0.799808  -8.25789e5      0.140776\n",
       "  12 │    11  0.799933  -8.25789e5      0.0364729\n",
       "  13 │    12  0.799996  -8.25789e5      0.00945264\n",
       "  14 │    13  0.800028  -8.25789e5      0.00245023\n",
       "  15 │    14  0.800045  -8.25789e5      0.000635179\n",
       "  16 │    15  0.800053  -8.25789e5      0.000164666\n",
       "  17 │    16  0.800057  -8.25789e5      4.26897e-5\n",
       "  18 │    17  0.800059  -8.25789e5      1.10674e-5\n",
       "  19 │    18  0.80006   -8.25789e5      2.86917e-6"
      ]
     },
     "execution_count": 9,
     "metadata": {},
     "output_type": "execute_result"
    },
    {
     "name": "stdout",
     "output_type": "stream",
     "text": [
      "  0.129541 seconds (12.99 k allocations: 363.058 MiB, 14.75% gc time)\n"
     ]
    }
   ],
   "source": [
    "@time progress = fit_model!(data, tolerance = .00001)"
   ]
  }
 ],
 "metadata": {
  "kernelspec": {
   "display_name": "Julia 1.8.1",
   "language": "julia",
   "name": "julia-1.8"
  },
  "language_info": {
   "file_extension": ".jl",
   "mimetype": "application/julia",
   "name": "julia",
   "version": "1.8.1"
  },
  "orig_nbformat": 4,
  "vscode": {
   "interpreter": {
    "hash": "80e1c376cdf93d711d123c45e2b6c6b654e50bddcaa1ec7b85cafe02fb52c70e"
   }
  }
 },
 "nbformat": 4,
 "nbformat_minor": 2
}
