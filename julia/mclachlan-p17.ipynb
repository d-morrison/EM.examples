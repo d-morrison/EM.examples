{
 "cells": [
  {
   "cell_type": "code",
   "execution_count": 1,
   "metadata": {},
   "outputs": [],
   "source": [
    "using DataFrames, Distributions, DataFramesMeta"
   ]
  },
  {
   "cell_type": "code",
   "execution_count": 2,
   "metadata": {},
   "outputs": [
    {
     "data": {
      "text/plain": [
       "gen_data (generic function with 1 method)"
      ]
     },
     "execution_count": 2,
     "metadata": {},
     "output_type": "execute_result"
    }
   ],
   "source": [
    "function gen_data(\n",
    "    ; \n",
    "    n = 500000, \n",
    "    mu = [0, 2], \n",
    "    sigma = 1, \n",
    "    pZ1 = 0.8)\n",
    "    \n",
    "    data = DataFrame(\n",
    "        Obs_ID = 1:n,\n",
    "        Z = (rand(Uniform(0,1), n) .> pZ1) .+ 1\n",
    "        )\n",
    "\n",
    "    @transform!(data, :Y = rand(Normal(0, sigma), n) + mu[:Z])    \n",
    "    @select!(data, :Obs_ID, :Y)\n",
    "    @transform!(data, :p_Y_given_Z_1 = pdf.(Normal(mu[1], sigma), :Y))\n",
    "    @transform!(data, :p_Y_given_Z_2 = pdf.(Normal(mu[2], sigma), :Y))\n",
    "\n",
    "    return data\n",
    "  end"
   ]
  },
  {
   "cell_type": "code",
   "execution_count": 3,
   "metadata": {},
   "outputs": [
    {
     "data": {
      "text/html": [
       "<div class=\"data-frame\"><p>6 rows × 4 columns</p><table class=\"data-frame\"><thead><tr><th></th><th>Obs_ID</th><th>Y</th><th>p_Y_given_Z_1</th><th>p_Y_given_Z_2</th></tr><tr><th></th><th title=\"Int64\">Int64</th><th title=\"Float64\">Float64</th><th title=\"Float64\">Float64</th><th title=\"Float64\">Float64</th></tr></thead><tbody><tr><th>1</th><td>1</td><td>1.64912</td><td>0.102413</td><td>0.375125</td></tr><tr><th>2</th><td>2</td><td>-0.71507</td><td>0.308942</td><td>0.0100043</td></tr><tr><th>3</th><td>3</td><td>1.50139</td><td>0.129247</td><td>0.35231</td></tr><tr><th>4</th><td>4</td><td>-0.227602</td><td>0.388742</td><td>0.0333718</td></tr><tr><th>5</th><td>5</td><td>-0.0106089</td><td>0.39892</td><td>0.0528545</td></tr><tr><th>6</th><td>6</td><td>0.470564</td><td>0.357131</td><td>0.12387</td></tr></tbody></table></div>"
      ],
      "text/latex": [
       "\\begin{tabular}{r|cccc}\n",
       "\t& Obs\\_ID & Y & p\\_Y\\_given\\_Z\\_1 & p\\_Y\\_given\\_Z\\_2\\\\\n",
       "\t\\hline\n",
       "\t& Int64 & Float64 & Float64 & Float64\\\\\n",
       "\t\\hline\n",
       "\t1 & 1 & 1.64912 & 0.102413 & 0.375125 \\\\\n",
       "\t2 & 2 & -0.71507 & 0.308942 & 0.0100043 \\\\\n",
       "\t3 & 3 & 1.50139 & 0.129247 & 0.35231 \\\\\n",
       "\t4 & 4 & -0.227602 & 0.388742 & 0.0333718 \\\\\n",
       "\t5 & 5 & -0.0106089 & 0.39892 & 0.0528545 \\\\\n",
       "\t6 & 6 & 0.470564 & 0.357131 & 0.12387 \\\\\n",
       "\\end{tabular}\n"
      ],
      "text/plain": [
       "\u001b[1m6×4 DataFrame\u001b[0m\n",
       "\u001b[1m Row \u001b[0m│\u001b[1m Obs_ID \u001b[0m\u001b[1m Y          \u001b[0m\u001b[1m p_Y_given_Z_1 \u001b[0m\u001b[1m p_Y_given_Z_2 \u001b[0m\n",
       "\u001b[1m     \u001b[0m│\u001b[90m Int64  \u001b[0m\u001b[90m Float64    \u001b[0m\u001b[90m Float64       \u001b[0m\u001b[90m Float64       \u001b[0m\n",
       "─────┼──────────────────────────────────────────────────\n",
       "   1 │      1   1.64912         0.102413      0.375125\n",
       "   2 │      2  -0.71507         0.308942      0.0100043\n",
       "   3 │      3   1.50139         0.129247      0.35231\n",
       "   4 │      4  -0.227602        0.388742      0.0333718\n",
       "   5 │      5  -0.0106089       0.39892       0.0528545\n",
       "   6 │      6   0.470564        0.357131      0.12387"
      ]
     },
     "execution_count": 3,
     "metadata": {},
     "output_type": "execute_result"
    }
   ],
   "source": [
    "data = gen_data(n = 500000, pZ1 = 0.8);\n",
    "first(data, 6)"
   ]
  },
  {
   "cell_type": "code",
   "execution_count": 4,
   "metadata": {},
   "outputs": [
    {
     "data": {
      "text/plain": [
       "fit_model! (generic function with 1 method)"
      ]
     },
     "execution_count": 4,
     "metadata": {},
     "output_type": "execute_result"
    }
   ],
   "source": [
    "function fit_model!(\n",
    "    data; \n",
    "    pi_hat_0 = 0.5, \n",
    "    tolerance = 0.00001,\n",
    "    max_iterations = 1000,\n",
    "    verbose = false\n",
    "    )\n",
    "\n",
    "    # pre-allocate a table of results by iteration:\n",
    "    progress = DataFrame(\n",
    "        Iteration = 0:max_iterations, \n",
    "        pi_hat = Vector{Float64}(undef, max_iterations+1), \n",
    "        loglik = Vector{Float64}(undef, max_iterations+1), \n",
    "        diff_loglik = Vector{Float64}(undef, max_iterations+1)\n",
    "        )\n",
    "\n",
    "    # initial E step, to perform needed calculations for initial likelihood:\n",
    "    E_step!(data, pi_hat_0) \n",
    "    ll = loglik(data)\n",
    "    progress[1, :] = (0, pi_hat_0, ll, NaN)\n",
    "    \n",
    "    last_iter = 0\n",
    "    for i in 1:max_iterations\n",
    "\n",
    "        # M step: re-estimate parameters\n",
    "        pi_hat = M_step(data)\n",
    "\n",
    "        # E step: re-compute distribution of missing variables, using parameters\n",
    "        E_step!(data, pi_hat)\n",
    "        \n",
    "        # Assess convergence\n",
    "\n",
    "        ## save the previous log-likelihood so we can test for convergence\n",
    "        ll_old = ll\n",
    "        \n",
    "        ## here's the new log-likelihood\n",
    "        ll = loglik(data)\n",
    "\n",
    "        ll_diff = ll - ll_old\n",
    "        \n",
    "        progress[i+1,:] = (i, pi_hat, ll, ll_diff)\n",
    "        \n",
    "        if(verbose)\n",
    "            print(progress[i+1,:])\n",
    "        end\n",
    "        \n",
    "        if ll_diff < tolerance\n",
    "            last_iter = i\n",
    "            break\n",
    "        end\n",
    "    end\n",
    "    \n",
    "    return progress[1:(last_iter + 1), :]\n",
    "end"
   ]
  },
  {
   "cell_type": "code",
   "execution_count": 5,
   "metadata": {},
   "outputs": [
    {
     "data": {
      "text/plain": [
       "E_step! (generic function with 1 method)"
      ]
     },
     "execution_count": 5,
     "metadata": {},
     "output_type": "execute_result"
    }
   ],
   "source": [
    "function E_step!(data, pi_hat)\n",
    "    @transform!(data, :pY_Z1 = :p_Y_given_Z_1 .* pi_hat)\n",
    "    @transform!(data, :pY_Z2 = :p_Y_given_Z_2 .* (1- pi_hat))\n",
    "    @transform!(data, :pY = :pY_Z1 + :pY_Z2)\n",
    "    @transform!(data, :pZ1_given_Y = :pY_Z1 ./ :pY)\n",
    "end"
   ]
  },
  {
   "cell_type": "code",
   "execution_count": 6,
   "metadata": {},
   "outputs": [
    {
     "data": {
      "text/plain": [
       "M_step (generic function with 1 method)"
      ]
     },
     "execution_count": 6,
     "metadata": {},
     "output_type": "execute_result"
    }
   ],
   "source": [
    "function M_step(data)\n",
    "    data[:, :pZ1_given_Y] |> mean\n",
    "end"
   ]
  },
  {
   "cell_type": "code",
   "execution_count": 7,
   "metadata": {},
   "outputs": [
    {
     "data": {
      "text/plain": [
       "loglik (generic function with 1 method)"
      ]
     },
     "execution_count": 7,
     "metadata": {},
     "output_type": "execute_result"
    }
   ],
   "source": [
    "function loglik(data)\n",
    "    data[:, :pY] .|> log |> sum\n",
    "end"
   ]
  },
  {
   "cell_type": "code",
   "execution_count": 8,
   "metadata": {},
   "outputs": [
    {
     "name": "stdout",
     "output_type": "stream",
     "text": [
      "  1.440720 seconds (6.98 M allocations: 881.487 MiB, 9.69% gc time, 87.68% compilation time)\n"
     ]
    }
   ],
   "source": [
    "@time progress = fit_model!(data, tolerance = 0.00001);\n"
   ]
  },
  {
   "attachments": {},
   "cell_type": "markdown",
   "metadata": {},
   "source": [
    "The first run requires compilation; on subsequent calls it will be faster:"
   ]
  },
  {
   "cell_type": "code",
   "execution_count": 9,
   "metadata": {},
   "outputs": [
    {
     "name": "stdout",
     "output_type": "stream",
     "text": [
      "  0.159684 seconds (13.08 k allocations: 504.204 MiB, 15.17% gc time)\n"
     ]
    }
   ],
   "source": [
    "@time progress = fit_model!(data, tolerance = 0.00001);"
   ]
  },
  {
   "attachments": {},
   "cell_type": "markdown",
   "metadata": {},
   "source": [
    "Note that the memory allocation is also lower this time, because the first run expands the `DataFrame` `data` with additional columns which are reused in the second run:"
   ]
  },
  {
   "cell_type": "code",
   "execution_count": 10,
   "metadata": {},
   "outputs": [
    {
     "data": {
      "text/html": [
       "<div class=\"data-frame\"><p>6 rows × 8 columns (omitted printing of 1 columns)</p><table class=\"data-frame\"><thead><tr><th></th><th>Obs_ID</th><th>Y</th><th>p_Y_given_Z_1</th><th>p_Y_given_Z_2</th><th>pY_Z1</th><th>pY_Z2</th><th>pY</th></tr><tr><th></th><th title=\"Int64\">Int64</th><th title=\"Float64\">Float64</th><th title=\"Float64\">Float64</th><th title=\"Float64\">Float64</th><th title=\"Float64\">Float64</th><th title=\"Float64\">Float64</th><th title=\"Float64\">Float64</th></tr></thead><tbody><tr><th>1</th><td>1</td><td>1.64912</td><td>0.102413</td><td>0.375125</td><td>0.0820079</td><td>0.0747413</td><td>0.156749</td></tr><tr><th>2</th><td>2</td><td>-0.71507</td><td>0.308942</td><td>0.0100043</td><td>0.247387</td><td>0.00199329</td><td>0.249381</td></tr><tr><th>3</th><td>3</td><td>1.50139</td><td>0.129247</td><td>0.35231</td><td>0.103495</td><td>0.0701956</td><td>0.173691</td></tr><tr><th>4</th><td>4</td><td>-0.227602</td><td>0.388742</td><td>0.0333718</td><td>0.311287</td><td>0.00664912</td><td>0.317937</td></tr><tr><th>5</th><td>5</td><td>-0.0106089</td><td>0.39892</td><td>0.0528545</td><td>0.319438</td><td>0.0105309</td><td>0.329968</td></tr><tr><th>6</th><td>6</td><td>0.470564</td><td>0.357131</td><td>0.12387</td><td>0.285975</td><td>0.0246803</td><td>0.310655</td></tr></tbody></table></div>"
      ],
      "text/latex": [
       "\\begin{tabular}{r|cccccccc}\n",
       "\t& Obs\\_ID & Y & p\\_Y\\_given\\_Z\\_1 & p\\_Y\\_given\\_Z\\_2 & pY\\_Z1 & pY\\_Z2 & pY & \\\\\n",
       "\t\\hline\n",
       "\t& Int64 & Float64 & Float64 & Float64 & Float64 & Float64 & Float64 & \\\\\n",
       "\t\\hline\n",
       "\t1 & 1 & 1.64912 & 0.102413 & 0.375125 & 0.0820079 & 0.0747413 & 0.156749 & $\\dots$ \\\\\n",
       "\t2 & 2 & -0.71507 & 0.308942 & 0.0100043 & 0.247387 & 0.00199329 & 0.249381 & $\\dots$ \\\\\n",
       "\t3 & 3 & 1.50139 & 0.129247 & 0.35231 & 0.103495 & 0.0701956 & 0.173691 & $\\dots$ \\\\\n",
       "\t4 & 4 & -0.227602 & 0.388742 & 0.0333718 & 0.311287 & 0.00664912 & 0.317937 & $\\dots$ \\\\\n",
       "\t5 & 5 & -0.0106089 & 0.39892 & 0.0528545 & 0.319438 & 0.0105309 & 0.329968 & $\\dots$ \\\\\n",
       "\t6 & 6 & 0.470564 & 0.357131 & 0.12387 & 0.285975 & 0.0246803 & 0.310655 & $\\dots$ \\\\\n",
       "\\end{tabular}\n"
      ],
      "text/plain": [
       "\u001b[1m6×8 DataFrame\u001b[0m\n",
       "\u001b[1m Row \u001b[0m│\u001b[1m Obs_ID \u001b[0m\u001b[1m Y          \u001b[0m\u001b[1m p_Y_given_Z_1 \u001b[0m\u001b[1m p_Y_given_Z_2 \u001b[0m\u001b[1m pY_Z1     \u001b[0m\u001b[1m pY_Z2     \u001b[0m ⋯\n",
       "\u001b[1m     \u001b[0m│\u001b[90m Int64  \u001b[0m\u001b[90m Float64    \u001b[0m\u001b[90m Float64       \u001b[0m\u001b[90m Float64       \u001b[0m\u001b[90m Float64   \u001b[0m\u001b[90m Float64   \u001b[0m ⋯\n",
       "─────┼──────────────────────────────────────────────────────────────────────────\n",
       "   1 │      1   1.64912         0.102413      0.375125   0.0820079  0.0747413  ⋯\n",
       "   2 │      2  -0.71507         0.308942      0.0100043  0.247387   0.00199329\n",
       "   3 │      3   1.50139         0.129247      0.35231    0.103495   0.0701956\n",
       "   4 │      4  -0.227602        0.388742      0.0333718  0.311287   0.00664912\n",
       "   5 │      5  -0.0106089       0.39892       0.0528545  0.319438   0.0105309  ⋯\n",
       "   6 │      6   0.470564        0.357131      0.12387    0.285975   0.0246803\n",
       "\u001b[36m                                                               2 columns omitted\u001b[0m"
      ]
     },
     "execution_count": 10,
     "metadata": {},
     "output_type": "execute_result"
    }
   ],
   "source": [
    "first(data, 6)"
   ]
  },
  {
   "attachments": {},
   "cell_type": "markdown",
   "metadata": {},
   "source": [
    "Here are the iterative steps and final estimate:"
   ]
  },
  {
   "cell_type": "code",
   "execution_count": 11,
   "metadata": {},
   "outputs": [
    {
     "data": {
      "text/html": [
       "<div class=\"data-frame\"><p>19 rows × 4 columns</p><table class=\"data-frame\"><thead><tr><th></th><th>Iteration</th><th>pi_hat</th><th>loglik</th><th>diff_loglik</th></tr><tr><th></th><th title=\"Int64\">Int64</th><th title=\"Float64\">Float64</th><th title=\"Float64\">Float64</th><th title=\"Float64\">Float64</th></tr></thead><tbody><tr><th>1</th><td>0</td><td>0.5</td><td>-877696.0</td><td>NaN</td></tr><tr><th>2</th><td>1</td><td>0.665478</td><td>-8.37059e5</td><td>40637.5</td></tr><tr><th>3</th><td>2</td><td>0.73781</td><td>-828079.0</td><td>8979.53</td></tr><tr><th>4</th><td>3</td><td>0.770275</td><td>-826000.0</td><td>2078.93</td></tr><tr><th>5</th><td>4</td><td>0.785627</td><td>-8.25494e5</td><td>506.171</td></tr><tr><th>6</th><td>5</td><td>0.793145</td><td>-8.25367e5</td><td>127.183</td></tr><tr><th>7</th><td>6</td><td>0.796901</td><td>-8.25334e5</td><td>32.5178</td></tr><tr><th>8</th><td>7</td><td>0.798796</td><td>-8.25326e5</td><td>8.39098</td></tr><tr><th>9</th><td>8</td><td>0.799758</td><td>-8.25324e5</td><td>2.17561</td></tr><tr><th>10</th><td>9</td><td>0.800248</td><td>-825323.0</td><td>0.565479</td></tr><tr><th>11</th><td>10</td><td>0.800497</td><td>-8.25323e5</td><td>0.147164</td></tr><tr><th>12</th><td>11</td><td>0.800625</td><td>-8.25323e5</td><td>0.0383235</td></tr><tr><th>13</th><td>12</td><td>0.80069</td><td>-8.25323e5</td><td>0.00998329</td></tr><tr><th>14</th><td>13</td><td>0.800723</td><td>-8.25323e5</td><td>0.00260109</td></tr><tr><th>15</th><td>14</td><td>0.80074</td><td>-8.25323e5</td><td>0.000677756</td></tr><tr><th>16</th><td>15</td><td>0.800748</td><td>-8.25323e5</td><td>0.000176608</td></tr><tr><th>17</th><td>16</td><td>0.800753</td><td>-8.25323e5</td><td>4.60213e-5</td></tr><tr><th>18</th><td>17</td><td>0.800755</td><td>-8.25323e5</td><td>1.19924e-5</td></tr><tr><th>19</th><td>18</td><td>0.800756</td><td>-8.25323e5</td><td>3.12517e-6</td></tr></tbody></table></div>"
      ],
      "text/latex": [
       "\\begin{tabular}{r|cccc}\n",
       "\t& Iteration & pi\\_hat & loglik & diff\\_loglik\\\\\n",
       "\t\\hline\n",
       "\t& Int64 & Float64 & Float64 & Float64\\\\\n",
       "\t\\hline\n",
       "\t1 & 0 & 0.5 & -877696.0 & NaN \\\\\n",
       "\t2 & 1 & 0.665478 & -8.37059e5 & 40637.5 \\\\\n",
       "\t3 & 2 & 0.73781 & -828079.0 & 8979.53 \\\\\n",
       "\t4 & 3 & 0.770275 & -826000.0 & 2078.93 \\\\\n",
       "\t5 & 4 & 0.785627 & -8.25494e5 & 506.171 \\\\\n",
       "\t6 & 5 & 0.793145 & -8.25367e5 & 127.183 \\\\\n",
       "\t7 & 6 & 0.796901 & -8.25334e5 & 32.5178 \\\\\n",
       "\t8 & 7 & 0.798796 & -8.25326e5 & 8.39098 \\\\\n",
       "\t9 & 8 & 0.799758 & -8.25324e5 & 2.17561 \\\\\n",
       "\t10 & 9 & 0.800248 & -825323.0 & 0.565479 \\\\\n",
       "\t11 & 10 & 0.800497 & -8.25323e5 & 0.147164 \\\\\n",
       "\t12 & 11 & 0.800625 & -8.25323e5 & 0.0383235 \\\\\n",
       "\t13 & 12 & 0.80069 & -8.25323e5 & 0.00998329 \\\\\n",
       "\t14 & 13 & 0.800723 & -8.25323e5 & 0.00260109 \\\\\n",
       "\t15 & 14 & 0.80074 & -8.25323e5 & 0.000677756 \\\\\n",
       "\t16 & 15 & 0.800748 & -8.25323e5 & 0.000176608 \\\\\n",
       "\t17 & 16 & 0.800753 & -8.25323e5 & 4.60213e-5 \\\\\n",
       "\t18 & 17 & 0.800755 & -8.25323e5 & 1.19924e-5 \\\\\n",
       "\t19 & 18 & 0.800756 & -8.25323e5 & 3.12517e-6 \\\\\n",
       "\\end{tabular}\n"
      ],
      "text/plain": [
       "\u001b[1m19×4 DataFrame\u001b[0m\n",
       "\u001b[1m Row \u001b[0m│\u001b[1m Iteration \u001b[0m\u001b[1m pi_hat   \u001b[0m\u001b[1m loglik          \u001b[0m\u001b[1m diff_loglik     \u001b[0m\n",
       "\u001b[1m     \u001b[0m│\u001b[90m Int64     \u001b[0m\u001b[90m Float64  \u001b[0m\u001b[90m Float64         \u001b[0m\u001b[90m Float64         \u001b[0m\n",
       "─────┼───────────────────────────────────────────────────────\n",
       "   1 │         0  0.5       -877696.0          NaN\n",
       "   2 │         1  0.665478       -8.37059e5  40637.5\n",
       "   3 │         2  0.73781   -828079.0         8979.53\n",
       "   4 │         3  0.770275  -826000.0         2078.93\n",
       "   5 │         4  0.785627       -8.25494e5    506.171\n",
       "   6 │         5  0.793145       -8.25367e5    127.183\n",
       "   7 │         6  0.796901       -8.25334e5     32.5178\n",
       "   8 │         7  0.798796       -8.25326e5      8.39098\n",
       "   9 │         8  0.799758       -8.25324e5      2.17561\n",
       "  10 │         9  0.800248  -825323.0            0.565479\n",
       "  11 │        10  0.800497       -8.25323e5      0.147164\n",
       "  12 │        11  0.800625       -8.25323e5      0.0383235\n",
       "  13 │        12  0.80069        -8.25323e5      0.00998329\n",
       "  14 │        13  0.800723       -8.25323e5      0.00260109\n",
       "  15 │        14  0.80074        -8.25323e5      0.000677756\n",
       "  16 │        15  0.800748       -8.25323e5      0.000176608\n",
       "  17 │        16  0.800753       -8.25323e5      4.60213e-5\n",
       "  18 │        17  0.800755       -8.25323e5      1.19924e-5\n",
       "  19 │        18  0.800756       -8.25323e5      3.12517e-6"
      ]
     },
     "execution_count": 11,
     "metadata": {},
     "output_type": "execute_result"
    }
   ],
   "source": [
    "progress"
   ]
  }
 ],
 "metadata": {
  "kernelspec": {
   "display_name": "Julia 1.8.1",
   "language": "julia",
   "name": "julia-1.8"
  },
  "language_info": {
   "file_extension": ".jl",
   "mimetype": "application/julia",
   "name": "julia",
   "version": "1.8.1"
  },
  "orig_nbformat": 4,
  "vscode": {
   "interpreter": {
    "hash": "80e1c376cdf93d711d123c45e2b6c6b654e50bddcaa1ec7b85cafe02fb52c70e"
   }
  }
 },
 "nbformat": 4,
 "nbformat_minor": 2
}
