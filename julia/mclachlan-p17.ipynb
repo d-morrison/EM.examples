{
 "cells": [
  {
   "cell_type": "code",
   "execution_count": 1,
   "metadata": {},
   "outputs": [],
   "source": [
    "using DataFrames, Distributions, DataFramesMeta"
   ]
  },
  {
   "cell_type": "code",
   "execution_count": 2,
   "metadata": {},
   "outputs": [
    {
     "data": {
      "text/plain": [
       "gen_data (generic function with 1 method)"
      ]
     },
     "execution_count": 2,
     "metadata": {},
     "output_type": "execute_result"
    }
   ],
   "source": [
    "function gen_data(; n = 500000, mu = [0, 2], sigma = 1, pZ1 = 0.8)\n",
    "    data = DataFrame(\n",
    "        Obs_ID = 1:n,\n",
    "        Z = (rand(Uniform(0,1), n) .> pZ1) .+ 1\n",
    "        )\n",
    "\n",
    "    @transform!(data, :Y = rand(Normal(0, sigma), n) + mu[:Z])    \n",
    "    @select!(data, :Obs_ID, :Y)\n",
    "    @transform!(data, :p_Y_given_Z_1 = pdf.(Normal(mu[1], sigma), :Y))\n",
    "    @transform!(data, :p_Y_given_Z_2 = pdf.(Normal(mu[2], sigma), :Y))\n",
    "\n",
    "    return data\n",
    "  end"
   ]
  },
  {
   "cell_type": "code",
   "execution_count": 3,
   "metadata": {},
   "outputs": [
    {
     "data": {
      "text/html": [
       "<div class=\"data-frame\"><p>6 rows × 4 columns</p><table class=\"data-frame\"><thead><tr><th></th><th>Obs_ID</th><th>Y</th><th>p_Y_given_Z_1</th><th>p_Y_given_Z_2</th></tr><tr><th></th><th title=\"Int64\">Int64</th><th title=\"Float64\">Float64</th><th title=\"Float64\">Float64</th><th title=\"Float64\">Float64</th></tr></thead><tbody><tr><th>1</th><td>1</td><td>0.420934</td><td>0.365119</td><td>0.114674</td></tr><tr><th>2</th><td>2</td><td>0.0157625</td><td>0.398893</td><td>0.0557132</td></tr><tr><th>3</th><td>3</td><td>-0.162978</td><td>0.393679</td><td>0.0384585</td></tr><tr><th>4</th><td>4</td><td>2.45073</td><td>0.0198021</td><td>0.360409</td></tr><tr><th>5</th><td>5</td><td>1.52869</td><td>0.124011</td><td>0.357006</td></tr><tr><th>6</th><td>6</td><td>1.39203</td><td>0.151403</td><td>0.331624</td></tr></tbody></table></div>"
      ],
      "text/latex": [
       "\\begin{tabular}{r|cccc}\n",
       "\t& Obs\\_ID & Y & p\\_Y\\_given\\_Z\\_1 & p\\_Y\\_given\\_Z\\_2\\\\\n",
       "\t\\hline\n",
       "\t& Int64 & Float64 & Float64 & Float64\\\\\n",
       "\t\\hline\n",
       "\t1 & 1 & 0.420934 & 0.365119 & 0.114674 \\\\\n",
       "\t2 & 2 & 0.0157625 & 0.398893 & 0.0557132 \\\\\n",
       "\t3 & 3 & -0.162978 & 0.393679 & 0.0384585 \\\\\n",
       "\t4 & 4 & 2.45073 & 0.0198021 & 0.360409 \\\\\n",
       "\t5 & 5 & 1.52869 & 0.124011 & 0.357006 \\\\\n",
       "\t6 & 6 & 1.39203 & 0.151403 & 0.331624 \\\\\n",
       "\\end{tabular}\n"
      ],
      "text/plain": [
       "\u001b[1m6×4 DataFrame\u001b[0m\n",
       "\u001b[1m Row \u001b[0m│\u001b[1m Obs_ID \u001b[0m\u001b[1m Y          \u001b[0m\u001b[1m p_Y_given_Z_1 \u001b[0m\u001b[1m p_Y_given_Z_2 \u001b[0m\n",
       "\u001b[1m     \u001b[0m│\u001b[90m Int64  \u001b[0m\u001b[90m Float64    \u001b[0m\u001b[90m Float64       \u001b[0m\u001b[90m Float64       \u001b[0m\n",
       "─────┼──────────────────────────────────────────────────\n",
       "   1 │      1   0.420934       0.365119       0.114674\n",
       "   2 │      2   0.0157625      0.398893       0.0557132\n",
       "   3 │      3  -0.162978       0.393679       0.0384585\n",
       "   4 │      4   2.45073        0.0198021      0.360409\n",
       "   5 │      5   1.52869        0.124011       0.357006\n",
       "   6 │      6   1.39203        0.151403       0.331624"
      ]
     },
     "execution_count": 3,
     "metadata": {},
     "output_type": "execute_result"
    }
   ],
   "source": [
    "data = gen_data(n = 500000, pZ1 = 0.8);\n",
    "first(data, 6)"
   ]
  },
  {
   "cell_type": "code",
   "execution_count": 4,
   "metadata": {},
   "outputs": [
    {
     "data": {
      "text/plain": [
       "fit_model! (generic function with 1 method)"
      ]
     },
     "execution_count": 4,
     "metadata": {},
     "output_type": "execute_result"
    }
   ],
   "source": [
    "function fit_model!(\n",
    "    data; \n",
    "    pi_hat_0 = 0.5, \n",
    "    tolerance = 0.0001,\n",
    "    max_iterations = 1000,\n",
    "    progress = DataFrame(\n",
    "        iter = 1:(max_iterations+1), \n",
    "        pi_hat = Vector{Float64}(undef, max_iterations+1), \n",
    "        ll = Vector{Float64}(undef, max_iterations+1), \n",
    "        ll_diff = Vector{Float64}(undef, max_iterations+1)\n",
    "        )\n",
    "    )\n",
    "\n",
    "    pi_hat = pi_hat_0\n",
    "    E_step!(data, pi_hat)\n",
    "    ll = loglik(data)\n",
    "    progress[1,:] = (0, pi_hat, ll, NaN)\n",
    "    \n",
    "    last_iter = 0\n",
    "    for i in 1:max_iterations\n",
    "        pi_hat = M_step(data)\n",
    "        E_step!(data, pi_hat)\n",
    "        \n",
    "        ll_old = ll\n",
    "        ll = loglik(data)\n",
    "        ll_diff = ll - ll_old\n",
    "        progress[i+1,:] = (i, pi_hat, ll, ll_diff)\n",
    "\n",
    "        if ll_diff < tolerance\n",
    "            last_iter = i\n",
    "            break\n",
    "        end\n",
    "    end\n",
    "    return progress[1:(last_iter + 1), :]\n",
    "end"
   ]
  },
  {
   "cell_type": "code",
   "execution_count": 5,
   "metadata": {},
   "outputs": [
    {
     "data": {
      "text/plain": [
       "E_step! (generic function with 1 method)"
      ]
     },
     "execution_count": 5,
     "metadata": {},
     "output_type": "execute_result"
    }
   ],
   "source": [
    "function E_step!(data, pi_hat)\n",
    "    @transform!(data, :pY_Z1 = :p_Y_given_Z_1 .* pi_hat)\n",
    "    @transform!(data, :pY_Z2 = :p_Y_given_Z_2 .* (1- pi_hat))\n",
    "    @transform!(data, :pY = :pY_Z1 + :pY_Z2)\n",
    "    @transform!(data, :pZ1_given_Y = :pY_Z1 ./ :pY)\n",
    "end"
   ]
  },
  {
   "cell_type": "code",
   "execution_count": 6,
   "metadata": {},
   "outputs": [
    {
     "data": {
      "text/plain": [
       "M_step (generic function with 1 method)"
      ]
     },
     "execution_count": 6,
     "metadata": {},
     "output_type": "execute_result"
    }
   ],
   "source": [
    "function M_step(data)\n",
    "    mean(data[!, :pZ1_given_Y])\n",
    "end"
   ]
  },
  {
   "cell_type": "code",
   "execution_count": 7,
   "metadata": {},
   "outputs": [
    {
     "data": {
      "text/plain": [
       "loglik (generic function with 1 method)"
      ]
     },
     "execution_count": 7,
     "metadata": {},
     "output_type": "execute_result"
    }
   ],
   "source": [
    "function loglik(data)\n",
    "    sum(log.(data[!, :pY]))\n",
    "end"
   ]
  },
  {
   "cell_type": "code",
   "execution_count": 8,
   "metadata": {},
   "outputs": [
    {
     "name": "stdout",
     "output_type": "stream",
     "text": [
      "  0.814944 seconds (3.18 M allocations: 533.181 MiB, 7.68% gc time, 82.18% compilation time)\n"
     ]
    }
   ],
   "source": [
    "@time progress = fit_model!(data, tolerance = .00001);\n"
   ]
  },
  {
   "attachments": {},
   "cell_type": "markdown",
   "metadata": {},
   "source": [
    "The first run requires compilation; on subsequent calls it will be faster:"
   ]
  },
  {
   "cell_type": "code",
   "execution_count": 9,
   "metadata": {},
   "outputs": [
    {
     "name": "stdout",
     "output_type": "stream",
     "text": [
      "  0.128062 seconds (12.99 k allocations: 363.058 MiB, 14.40% gc time)\n"
     ]
    },
    {
     "data": {
      "text/html": [
       "<div class=\"data-frame\"><p>18 rows × 4 columns</p><table class=\"data-frame\"><thead><tr><th></th><th>iter</th><th>pi_hat</th><th>ll</th><th>ll_diff</th></tr><tr><th></th><th title=\"Int64\">Int64</th><th title=\"Float64\">Float64</th><th title=\"Float64\">Float64</th><th title=\"Float64\">Float64</th></tr></thead><tbody><tr><th>1</th><td>0</td><td>0.5</td><td>-8.77633e5</td><td>NaN</td></tr><tr><th>2</th><td>1</td><td>0.66514</td><td>-8.37182e5</td><td>40451.0</td></tr><tr><th>3</th><td>2</td><td>0.73724</td><td>-8.2827e5</td><td>8911.09</td></tr><tr><th>4</th><td>3</td><td>0.769564</td><td>-8.26214e5</td><td>2056.72</td></tr><tr><th>5</th><td>4</td><td>0.784832</td><td>-8.25715e5</td><td>499.179</td></tr><tr><th>6</th><td>5</td><td>0.792298</td><td>-8.2559e5</td><td>125.017</td></tr><tr><th>7</th><td>6</td><td>0.796022</td><td>-8.25558e5</td><td>31.857</td></tr><tr><th>8</th><td>7</td><td>0.797899</td><td>-8.2555e5</td><td>8.1924</td></tr><tr><th>9</th><td>8</td><td>0.798849</td><td>-8.25547e5</td><td>2.11678</td></tr><tr><th>10</th><td>9</td><td>0.799332</td><td>-8.25547e5</td><td>0.548276</td></tr><tr><th>11</th><td>10</td><td>0.799578</td><td>-8.25547e5</td><td>0.142188</td></tr><tr><th>12</th><td>11</td><td>0.799703</td><td>-8.25547e5</td><td>0.0368981</td></tr><tr><th>13</th><td>12</td><td>0.799767</td><td>-8.25547e5</td><td>0.00957823</td></tr><tr><th>14</th><td>13</td><td>0.7998</td><td>-8.25547e5</td><td>0.00248679</td></tr><tr><th>15</th><td>14</td><td>0.799816</td><td>-8.25547e5</td><td>0.000645698</td></tr><tr><th>16</th><td>15</td><td>0.799825</td><td>-8.25547e5</td><td>0.000167663</td></tr><tr><th>17</th><td>16</td><td>0.799829</td><td>-8.25547e5</td><td>4.35368e-5</td></tr><tr><th>18</th><td>17</td><td>0.799831</td><td>-8.25547e5</td><td>1.13052e-5</td></tr></tbody></table></div>"
      ],
      "text/latex": [
       "\\begin{tabular}{r|cccc}\n",
       "\t& iter & pi\\_hat & ll & ll\\_diff\\\\\n",
       "\t\\hline\n",
       "\t& Int64 & Float64 & Float64 & Float64\\\\\n",
       "\t\\hline\n",
       "\t1 & 0 & 0.5 & -8.77633e5 & NaN \\\\\n",
       "\t2 & 1 & 0.66514 & -8.37182e5 & 40451.0 \\\\\n",
       "\t3 & 2 & 0.73724 & -8.2827e5 & 8911.09 \\\\\n",
       "\t4 & 3 & 0.769564 & -8.26214e5 & 2056.72 \\\\\n",
       "\t5 & 4 & 0.784832 & -8.25715e5 & 499.179 \\\\\n",
       "\t6 & 5 & 0.792298 & -8.2559e5 & 125.017 \\\\\n",
       "\t7 & 6 & 0.796022 & -8.25558e5 & 31.857 \\\\\n",
       "\t8 & 7 & 0.797899 & -8.2555e5 & 8.1924 \\\\\n",
       "\t9 & 8 & 0.798849 & -8.25547e5 & 2.11678 \\\\\n",
       "\t10 & 9 & 0.799332 & -8.25547e5 & 0.548276 \\\\\n",
       "\t11 & 10 & 0.799578 & -8.25547e5 & 0.142188 \\\\\n",
       "\t12 & 11 & 0.799703 & -8.25547e5 & 0.0368981 \\\\\n",
       "\t13 & 12 & 0.799767 & -8.25547e5 & 0.00957823 \\\\\n",
       "\t14 & 13 & 0.7998 & -8.25547e5 & 0.00248679 \\\\\n",
       "\t15 & 14 & 0.799816 & -8.25547e5 & 0.000645698 \\\\\n",
       "\t16 & 15 & 0.799825 & -8.25547e5 & 0.000167663 \\\\\n",
       "\t17 & 16 & 0.799829 & -8.25547e5 & 4.35368e-5 \\\\\n",
       "\t18 & 17 & 0.799831 & -8.25547e5 & 1.13052e-5 \\\\\n",
       "\\end{tabular}\n"
      ],
      "text/plain": [
       "\u001b[1m18×4 DataFrame\u001b[0m\n",
       "\u001b[1m Row \u001b[0m│\u001b[1m iter  \u001b[0m\u001b[1m pi_hat   \u001b[0m\u001b[1m ll         \u001b[0m\u001b[1m ll_diff         \u001b[0m\n",
       "\u001b[1m     \u001b[0m│\u001b[90m Int64 \u001b[0m\u001b[90m Float64  \u001b[0m\u001b[90m Float64    \u001b[0m\u001b[90m Float64         \u001b[0m\n",
       "─────┼──────────────────────────────────────────────\n",
       "   1 │     0  0.5       -8.77633e5    NaN\n",
       "   2 │     1  0.66514   -8.37182e5  40451.0\n",
       "   3 │     2  0.73724   -8.2827e5    8911.09\n",
       "   4 │     3  0.769564  -8.26214e5   2056.72\n",
       "   5 │     4  0.784832  -8.25715e5    499.179\n",
       "   6 │     5  0.792298  -8.2559e5     125.017\n",
       "   7 │     6  0.796022  -8.25558e5     31.857\n",
       "   8 │     7  0.797899  -8.2555e5       8.1924\n",
       "   9 │     8  0.798849  -8.25547e5      2.11678\n",
       "  10 │     9  0.799332  -8.25547e5      0.548276\n",
       "  11 │    10  0.799578  -8.25547e5      0.142188\n",
       "  12 │    11  0.799703  -8.25547e5      0.0368981\n",
       "  13 │    12  0.799767  -8.25547e5      0.00957823\n",
       "  14 │    13  0.7998    -8.25547e5      0.00248679\n",
       "  15 │    14  0.799816  -8.25547e5      0.000645698\n",
       "  16 │    15  0.799825  -8.25547e5      0.000167663\n",
       "  17 │    16  0.799829  -8.25547e5      4.35368e-5\n",
       "  18 │    17  0.799831  -8.25547e5      1.13052e-5"
      ]
     },
     "execution_count": 9,
     "metadata": {},
     "output_type": "execute_result"
    }
   ],
   "source": [
    "@time progress = fit_model!(data, tolerance = .00001)"
   ]
  }
 ],
 "metadata": {
  "kernelspec": {
   "display_name": "Julia 1.8.1",
   "language": "julia",
   "name": "julia-1.8"
  },
  "language_info": {
   "file_extension": ".jl",
   "mimetype": "application/julia",
   "name": "julia",
   "version": "1.8.1"
  },
  "orig_nbformat": 4,
  "vscode": {
   "interpreter": {
    "hash": "80e1c376cdf93d711d123c45e2b6c6b654e50bddcaa1ec7b85cafe02fb52c70e"
   }
  }
 },
 "nbformat": 4,
 "nbformat_minor": 2
}
