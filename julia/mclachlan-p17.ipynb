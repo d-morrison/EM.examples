{
 "cells": [
  {
   "cell_type": "code",
   "execution_count": 1,
   "metadata": {},
   "outputs": [],
   "source": [
    "using DataFrames, Distributions, DataFramesMeta"
   ]
  },
  {
   "cell_type": "code",
   "execution_count": 2,
   "metadata": {},
   "outputs": [
    {
     "data": {
      "text/plain": [
       "gen_data (generic function with 1 method)"
      ]
     },
     "execution_count": 2,
     "metadata": {},
     "output_type": "execute_result"
    }
   ],
   "source": [
    "function gen_data(; n = 500000, mu = [0, 2], sigma = 1, pZ1 = 0.8)\n",
    "    data = DataFrame(\n",
    "        Obs_ID = 1:n,\n",
    "        Z = (rand(Uniform(0,1), n) .> pZ1) .+ 1,\n",
    "        )\n",
    "\n",
    "    @transform!(data, :Y = rand(Normal(0, sigma), n) + mu[:Z])    \n",
    "    @select!(data, :Obs_ID, :Y)\n",
    "    @transform!(data, :p_Y_given_Z_1 = pdf.(Normal(mu[1], sigma), :Y))\n",
    "    @transform!(data, :p_Y_given_Z_2 = pdf.(Normal(mu[2], sigma), :Y))\n",
    "\n",
    "    return data\n",
    "  end"
   ]
  },
  {
   "cell_type": "code",
   "execution_count": 17,
   "metadata": {},
   "outputs": [
    {
     "data": {
      "text/html": [
       "<div class=\"data-frame\"><p>6 rows × 4 columns</p><table class=\"data-frame\"><thead><tr><th></th><th>Obs_ID</th><th>Y</th><th>p_Y_given_Z_1</th><th>p_Y_given_Z_2</th></tr><tr><th></th><th title=\"Int64\">Int64</th><th title=\"Float64\">Float64</th><th title=\"Float64\">Float64</th><th title=\"Float64\">Float64</th></tr></thead><tbody><tr><th>1</th><td>1</td><td>1.45223</td><td>0.13898</td><td>0.343364</td></tr><tr><th>2</th><td>2</td><td>1.44106</td><td>0.141243</td><td>0.341249</td></tr><tr><th>3</th><td>3</td><td>0.11809</td><td>0.39617</td><td>0.0678992</td></tr><tr><th>4</th><td>4</td><td>2.95368</td><td>0.00508711</td><td>0.253171</td></tr><tr><th>5</th><td>5</td><td>-0.454903</td><td>0.359728</td><td>0.0196003</td></tr><tr><th>6</th><td>6</td><td>0.366154</td><td>0.373076</td><td>0.105014</td></tr></tbody></table></div>"
      ],
      "text/latex": [
       "\\begin{tabular}{r|cccc}\n",
       "\t& Obs\\_ID & Y & p\\_Y\\_given\\_Z\\_1 & p\\_Y\\_given\\_Z\\_2\\\\\n",
       "\t\\hline\n",
       "\t& Int64 & Float64 & Float64 & Float64\\\\\n",
       "\t\\hline\n",
       "\t1 & 1 & 1.45223 & 0.13898 & 0.343364 \\\\\n",
       "\t2 & 2 & 1.44106 & 0.141243 & 0.341249 \\\\\n",
       "\t3 & 3 & 0.11809 & 0.39617 & 0.0678992 \\\\\n",
       "\t4 & 4 & 2.95368 & 0.00508711 & 0.253171 \\\\\n",
       "\t5 & 5 & -0.454903 & 0.359728 & 0.0196003 \\\\\n",
       "\t6 & 6 & 0.366154 & 0.373076 & 0.105014 \\\\\n",
       "\\end{tabular}\n"
      ],
      "text/plain": [
       "\u001b[1m6×4 DataFrame\u001b[0m\n",
       "\u001b[1m Row \u001b[0m│\u001b[1m Obs_ID \u001b[0m\u001b[1m Y         \u001b[0m\u001b[1m p_Y_given_Z_1 \u001b[0m\u001b[1m p_Y_given_Z_2 \u001b[0m\n",
       "\u001b[1m     \u001b[0m│\u001b[90m Int64  \u001b[0m\u001b[90m Float64   \u001b[0m\u001b[90m Float64       \u001b[0m\u001b[90m Float64       \u001b[0m\n",
       "─────┼─────────────────────────────────────────────────\n",
       "   1 │      1   1.45223      0.13898         0.343364\n",
       "   2 │      2   1.44106      0.141243        0.341249\n",
       "   3 │      3   0.11809      0.39617         0.0678992\n",
       "   4 │      4   2.95368      0.00508711      0.253171\n",
       "   5 │      5  -0.454903     0.359728        0.0196003\n",
       "   6 │      6   0.366154     0.373076        0.105014"
      ]
     },
     "execution_count": 17,
     "metadata": {},
     "output_type": "execute_result"
    }
   ],
   "source": [
    "data = gen_data(n = 1000, pZ1 = 0.8);\n",
    "first(data, 6)"
   ]
  },
  {
   "cell_type": "code",
   "execution_count": 25,
   "metadata": {},
   "outputs": [
    {
     "data": {
      "text/plain": [
       "fit_model! (generic function with 1 method)"
      ]
     },
     "execution_count": 25,
     "metadata": {},
     "output_type": "execute_result"
    }
   ],
   "source": [
    "function fit_model!(\n",
    "    data; \n",
    "    pi_hat_0 = 0.5, \n",
    "    tolerance = 0.001,\n",
    "    max_iterations = 1000,\n",
    "    progress = DataFrame(iter = 1:(max_iterations+1), pi_hat = undef, ll = undef, ll_diff = undef))\n",
    "\n",
    "    pi_hat = pi_hat_0\n",
    "    E_step!(data, pi_hat)\n",
    "    ll = loglik!(data)\n",
    "    # progress = [(iter = 0, pi_hat, ll, ll_diff = NaN)]\n",
    "    progress[1,:] = (iter = 0, pi_hat, ll, ll_diff = NaN)\n",
    "    \n",
    "    for i in 1:max_iterations\n",
    "        pi_hat = M_step(data)\n",
    "        E_step!(data, pi_hat)\n",
    "        \n",
    "        ll_old = ll\n",
    "        ll = loglik!(data)\n",
    "        ll_diff = ll - ll_old\n",
    "        progress[i+1,:] = (i, pi_hat, ll, ll_diff)\n",
    "\n",
    "        if ll_diff < tolerance\n",
    "            break\n",
    "        end\n",
    "    end\n",
    "    return progress\n",
    "end"
   ]
  },
  {
   "cell_type": "code",
   "execution_count": 4,
   "metadata": {},
   "outputs": [
    {
     "data": {
      "text/plain": [
       "E_step! (generic function with 1 method)"
      ]
     },
     "execution_count": 4,
     "metadata": {},
     "output_type": "execute_result"
    }
   ],
   "source": [
    "function E_step!(data, pi_hat)\n",
    "    @transform!(data, :pY_Z1 = :p_Y_given_Z_1 .* pi_hat)\n",
    "    @transform!(data, :pY_Z2 = :p_Y_given_Z_2 .* (1- pi_hat))\n",
    "    @transform!(data, :pY = :pY_Z1 + :pY_Z2)\n",
    "    @transform!(data, :pZ1_given_Y = :pY_Z1 ./ :pY)\n",
    "end"
   ]
  },
  {
   "cell_type": "code",
   "execution_count": 5,
   "metadata": {},
   "outputs": [
    {
     "data": {
      "text/plain": [
       "M_step (generic function with 1 method)"
      ]
     },
     "execution_count": 5,
     "metadata": {},
     "output_type": "execute_result"
    }
   ],
   "source": [
    "function M_step(data)\n",
    "    mean(data[!, :pZ1_given_Y])\n",
    "end"
   ]
  },
  {
   "cell_type": "code",
   "execution_count": 6,
   "metadata": {},
   "outputs": [
    {
     "data": {
      "text/plain": [
       "loglik! (generic function with 1 method)"
      ]
     },
     "execution_count": 6,
     "metadata": {},
     "output_type": "execute_result"
    }
   ],
   "source": [
    "function loglik!(data)\n",
    "    sum(log.(data[!, :pY]))\n",
    "end"
   ]
  },
  {
   "cell_type": "code",
   "execution_count": 26,
   "metadata": {},
   "outputs": [
    {
     "ename": "LoadError",
     "evalue": "MethodError: \u001b[0mCannot `convert` an object of type \u001b[92mFloat64\u001b[39m\u001b[0m to an object of type \u001b[91mUndefInitializer\u001b[39m\n\u001b[0mClosest candidates are:\n\u001b[0m  convert(::Type{T}, \u001b[91m::T\u001b[39m) where T at Base.jl:61",
     "output_type": "error",
     "traceback": [
      "MethodError: \u001b[0mCannot `convert` an object of type \u001b[92mFloat64\u001b[39m\u001b[0m to an object of type \u001b[91mUndefInitializer\u001b[39m\n\u001b[0mClosest candidates are:\n\u001b[0m  convert(::Type{T}, \u001b[91m::T\u001b[39m) where T at Base.jl:61",
      "",
      "Stacktrace:",
      "  [1] setindex!(A::Vector{UndefInitializer}, x::Float64, i1::Int64)",
      "    @ Base .\\array.jl:966",
      "  [2] insert_single_entry!(df::DataFrame, v::Float64, row_ind::Int64, col_ind::Symbol)",
      "    @ DataFrames C:\\Users\\Work\\.julia\\packages\\DataFrames\\JZ7x5\\src\\dataframe\\dataframe.jl:631",
      "  [3] setindex!(df::DataFrame, v::Float64, row_ind::Int64, col_ind::Symbol)",
      "    @ DataFrames C:\\Users\\Work\\.julia\\packages\\DataFrames\\JZ7x5\\src\\dataframe\\dataframe.jl:659",
      "  [4] setindex!(df::DataFrame, v::NamedTuple{(:iter, :pi_hat, :ll, :ll_diff), Tuple{Int64, Float64, Float64, Float64}}, row_ind::Int64, col_inds::Colon)",
      "    @ DataFrames C:\\Users\\Work\\.julia\\packages\\DataFrames\\JZ7x5\\src\\dataframerow\\dataframerow.jl:255",
      "  [5] fit_model!(data::DataFrame; pi_hat_0::Float64, tolerance::Float64, max_iterations::Int64, progress::DataFrame)",
      "    @ Main .\\In[25]:12",
      "  [6] fit_model!(data::DataFrame)",
      "    @ Main .\\In[25]:1",
      "  [7] top-level scope",
      "    @ .\\timing.jl:262 [inlined]",
      "  [8] top-level scope",
      "    @ .\\In[26]:0",
      "  [9] eval",
      "    @ .\\boot.jl:368 [inlined]",
      " [10] include_string(mapexpr::typeof(REPL.softscope), mod::Module, code::String, filename::String)",
      "    @ Base .\\loading.jl:1428"
     ]
    }
   ],
   "source": [
    "@time progress = fit_model!(data)\n"
   ]
  }
 ],
 "metadata": {
  "kernelspec": {
   "display_name": "Julia 1.8.1",
   "language": "julia",
   "name": "julia-1.8"
  },
  "language_info": {
   "file_extension": ".jl",
   "mimetype": "application/julia",
   "name": "julia",
   "version": "1.8.1"
  },
  "orig_nbformat": 4,
  "vscode": {
   "interpreter": {
    "hash": "80e1c376cdf93d711d123c45e2b6c6b654e50bddcaa1ec7b85cafe02fb52c70e"
   }
  }
 },
 "nbformat": 4,
 "nbformat_minor": 2
}
