{
 "cells": [
  {
   "cell_type": "code",
   "execution_count": 1,
   "metadata": {},
   "outputs": [],
   "source": [
    "using DataFrames, Distributions, DataFramesMeta"
   ]
  },
  {
   "cell_type": "code",
   "execution_count": 2,
   "metadata": {},
   "outputs": [
    {
     "data": {
      "text/plain": [
       "gen_data (generic function with 1 method)"
      ]
     },
     "execution_count": 2,
     "metadata": {},
     "output_type": "execute_result"
    }
   ],
   "source": [
    "function gen_data(\n",
    "    ; \n",
    "    n = 500000, \n",
    "    mu = [0, 2], \n",
    "    sigma = 1, \n",
    "    pZ1 = 0.8)\n",
    "    \n",
    "    data = DataFrame(\n",
    "        Obs_ID = 1:n,\n",
    "        Z = (rand(Uniform(0,1), n) .> pZ1) .+ 1\n",
    "        )\n",
    "\n",
    "    @transform!(data, :Y = rand(Normal(0, sigma), n) + mu[:Z])    \n",
    "    @select!(data, :Obs_ID, :Y)\n",
    "    @transform!(data, :p_Y_given_Z_1 = pdf.(Normal(mu[1], sigma), :Y))\n",
    "    @transform!(data, :p_Y_given_Z_2 = pdf.(Normal(mu[2], sigma), :Y))\n",
    "\n",
    "    return data\n",
    "  end"
   ]
  },
  {
   "cell_type": "code",
   "execution_count": 3,
   "metadata": {},
   "outputs": [
    {
     "data": {
      "text/html": [
       "<div class=\"data-frame\"><p>6 rows × 4 columns</p><table class=\"data-frame\"><thead><tr><th></th><th>Obs_ID</th><th>Y</th><th>p_Y_given_Z_1</th><th>p_Y_given_Z_2</th></tr><tr><th></th><th title=\"Int64\">Int64</th><th title=\"Float64\">Float64</th><th title=\"Float64\">Float64</th><th title=\"Float64\">Float64</th></tr></thead><tbody><tr><th>1</th><td>1</td><td>-2.29579</td><td>0.0286023</td><td>3.92385e-5</td></tr><tr><th>2</th><td>2</td><td>3.40976</td><td>0.00119195</td><td>0.147689</td></tr><tr><th>3</th><td>3</td><td>1.21632</td><td>0.190396</td><td>0.293459</td></tr><tr><th>4</th><td>4</td><td>1.22822</td><td>0.187646</td><td>0.296187</td></tr><tr><th>5</th><td>5</td><td>0.386348</td><td>0.370252</td><td>0.108514</td></tr><tr><th>6</th><td>6</td><td>2.14119</td><td>0.0403044</td><td>0.394985</td></tr></tbody></table></div>"
      ],
      "text/latex": [
       "\\begin{tabular}{r|cccc}\n",
       "\t& Obs\\_ID & Y & p\\_Y\\_given\\_Z\\_1 & p\\_Y\\_given\\_Z\\_2\\\\\n",
       "\t\\hline\n",
       "\t& Int64 & Float64 & Float64 & Float64\\\\\n",
       "\t\\hline\n",
       "\t1 & 1 & -2.29579 & 0.0286023 & 3.92385e-5 \\\\\n",
       "\t2 & 2 & 3.40976 & 0.00119195 & 0.147689 \\\\\n",
       "\t3 & 3 & 1.21632 & 0.190396 & 0.293459 \\\\\n",
       "\t4 & 4 & 1.22822 & 0.187646 & 0.296187 \\\\\n",
       "\t5 & 5 & 0.386348 & 0.370252 & 0.108514 \\\\\n",
       "\t6 & 6 & 2.14119 & 0.0403044 & 0.394985 \\\\\n",
       "\\end{tabular}\n"
      ],
      "text/plain": [
       "\u001b[1m6×4 DataFrame\u001b[0m\n",
       "\u001b[1m Row \u001b[0m│\u001b[1m Obs_ID \u001b[0m\u001b[1m Y         \u001b[0m\u001b[1m p_Y_given_Z_1 \u001b[0m\u001b[1m p_Y_given_Z_2 \u001b[0m\n",
       "\u001b[1m     \u001b[0m│\u001b[90m Int64  \u001b[0m\u001b[90m Float64   \u001b[0m\u001b[90m Float64       \u001b[0m\u001b[90m Float64       \u001b[0m\n",
       "─────┼─────────────────────────────────────────────────\n",
       "   1 │      1  -2.29579      0.0286023      3.92385e-5\n",
       "   2 │      2   3.40976      0.00119195     0.147689\n",
       "   3 │      3   1.21632      0.190396       0.293459\n",
       "   4 │      4   1.22822      0.187646       0.296187\n",
       "   5 │      5   0.386348     0.370252       0.108514\n",
       "   6 │      6   2.14119      0.0403044      0.394985"
      ]
     },
     "execution_count": 3,
     "metadata": {},
     "output_type": "execute_result"
    }
   ],
   "source": [
    "data = gen_data(n = 500000, pZ1 = 0.8);\n",
    "first(data, 6)"
   ]
  },
  {
   "cell_type": "code",
   "execution_count": 4,
   "metadata": {},
   "outputs": [
    {
     "data": {
      "text/plain": [
       "fit_model! (generic function with 1 method)"
      ]
     },
     "execution_count": 4,
     "metadata": {},
     "output_type": "execute_result"
    }
   ],
   "source": [
    "function fit_model!(\n",
    "    data; \n",
    "    pi_hat_0 = 0.5, \n",
    "    tolerance = 0.00001,\n",
    "    max_iterations = 1000,\n",
    "    verbose = false\n",
    "    )\n",
    "\n",
    "    # pre-allocate a table of results by iteration:\n",
    "    progress = DataFrame(\n",
    "        Iteration = 0:max_iterations, \n",
    "        pi_hat = Vector{Float64}(undef, max_iterations+1), \n",
    "        loglik = Vector{Float64}(undef, max_iterations+1), \n",
    "        diff_loglik = Vector{Float64}(undef, max_iterations+1)\n",
    "        )\n",
    "\n",
    "    # initial E step, to perform needed calculations for initial likelihood:\n",
    "    E_step!(data, pi_hat_0) \n",
    "    ll = loglik(data)\n",
    "    progress[1, :] = (0, pi_hat_0, ll, NaN)\n",
    "    \n",
    "    last_iter = 0\n",
    "    for i in 1:max_iterations\n",
    "\n",
    "        # M step: re-estimate parameters\n",
    "        pi_hat = M_step(data)\n",
    "\n",
    "        # E step: re-compute distribution of missing variables, using parameters\n",
    "        E_step!(data, pi_hat)\n",
    "        \n",
    "        # Assess convergence\n",
    "\n",
    "        ## save the previous log-likelihood so we can test for convergence\n",
    "        ll_old = ll\n",
    "        \n",
    "        ## here's the new log-likelihood\n",
    "        ll = loglik(data)\n",
    "\n",
    "        ll_diff = ll - ll_old\n",
    "        \n",
    "        progress[i+1,:] = (i, pi_hat, ll, ll_diff)\n",
    "        \n",
    "        if(verbose)\n",
    "            print(progress[i+1,:])\n",
    "        end\n",
    "        \n",
    "        if ll_diff < tolerance\n",
    "            last_iter = i\n",
    "            break\n",
    "        end\n",
    "    end\n",
    "    \n",
    "    return progress[1:(last_iter + 1), :]\n",
    "end"
   ]
  },
  {
   "cell_type": "code",
   "execution_count": 5,
   "metadata": {},
   "outputs": [
    {
     "data": {
      "text/plain": [
       "E_step! (generic function with 1 method)"
      ]
     },
     "execution_count": 5,
     "metadata": {},
     "output_type": "execute_result"
    }
   ],
   "source": [
    "function E_step!(data, pi_hat)\n",
    "    @transform!(data, :pY_Z1 = :p_Y_given_Z_1 .* pi_hat)\n",
    "    @transform!(data, :pY_Z2 = :p_Y_given_Z_2 .* (1- pi_hat))\n",
    "    @transform!(data, :pY = :pY_Z1 + :pY_Z2)\n",
    "    @transform!(data, :pZ1_given_Y = :pY_Z1 ./ :pY)\n",
    "end"
   ]
  },
  {
   "cell_type": "code",
   "execution_count": 6,
   "metadata": {},
   "outputs": [
    {
     "data": {
      "text/plain": [
       "M_step (generic function with 1 method)"
      ]
     },
     "execution_count": 6,
     "metadata": {},
     "output_type": "execute_result"
    }
   ],
   "source": [
    "function M_step(data)\n",
    "    data[:, :pZ1_given_Y] |> mean\n",
    "end"
   ]
  },
  {
   "cell_type": "code",
   "execution_count": 7,
   "metadata": {},
   "outputs": [
    {
     "data": {
      "text/plain": [
       "loglik (generic function with 1 method)"
      ]
     },
     "execution_count": 7,
     "metadata": {},
     "output_type": "execute_result"
    }
   ],
   "source": [
    "function loglik(data)\n",
    "    data[:, :pY] .|> log |> sum\n",
    "end"
   ]
  },
  {
   "cell_type": "code",
   "execution_count": 8,
   "metadata": {},
   "outputs": [
    {
     "ename": "LoadError",
     "evalue": "MethodError: no method matching setindex!(::Tuple{DataFrame, DataFrame}, ::Tuple{Int64, Float64, Float64, Float64}, ::Int64, ::Colon)",
     "output_type": "error",
     "traceback": [
      "MethodError: no method matching setindex!(::Tuple{DataFrame, DataFrame}, ::Tuple{Int64, Float64, Float64, Float64}, ::Int64, ::Colon)",
      "",
      "Stacktrace:",
      " [1] fit_model!(data::DataFrame; pi_hat_0::Float64, tolerance::Float64, max_iterations::Int64, verbose::Bool)",
      "   @ Main .\\In[4]:20",
      " [2] top-level scope",
      "   @ .\\timing.jl:262 [inlined]",
      " [3] top-level scope",
      "   @ .\\In[8]:0",
      " [4] eval",
      "   @ .\\boot.jl:368 [inlined]",
      " [5] include_string(mapexpr::typeof(REPL.softscope), mod::Module, code::String, filename::String)",
      "   @ Base .\\loading.jl:1428"
     ]
    }
   ],
   "source": [
    "@time progress = fit_model!(data, tolerance = 0.00001);\n"
   ]
  },
  {
   "attachments": {},
   "cell_type": "markdown",
   "metadata": {},
   "source": [
    "The first run requires compilation; on subsequent calls it will be faster:"
   ]
  },
  {
   "cell_type": "code",
   "execution_count": null,
   "metadata": {},
   "outputs": [
    {
     "name": "stdout",
     "output_type": "stream",
     "text": [
      "  0.151518 seconds (13.08 k allocations: 504.204 MiB, 15.66% gc time)\n"
     ]
    },
    {
     "data": {
      "text/html": [
       "<div class=\"data-frame\"><p>19 rows × 4 columns</p><table class=\"data-frame\"><thead><tr><th></th><th>Iteration</th><th>pi_hat</th><th>loglik</th><th>diff_loglik</th></tr><tr><th></th><th title=\"Int64\">Int64</th><th title=\"Float64\">Float64</th><th title=\"Float64\">Float64</th><th title=\"Float64\">Float64</th></tr></thead><tbody><tr><th>1</th><td>0</td><td>0.5</td><td>-8.78014e5</td><td>NaN</td></tr><tr><th>2</th><td>1</td><td>0.6655</td><td>-8.3736e5</td><td>40653.7</td></tr><tr><th>3</th><td>2</td><td>0.737867</td><td>-828371.0</td><td>8989.06</td></tr><tr><th>4</th><td>3</td><td>0.770351</td><td>-8.26289e5</td><td>2081.86</td></tr><tr><th>5</th><td>4</td><td>0.785713</td><td>-8.25782e5</td><td>506.995</td></tr><tr><th>6</th><td>5</td><td>0.793237</td><td>-8.25655e5</td><td>127.414</td></tr><tr><th>7</th><td>6</td><td>0.796996</td><td>-8.25622e5</td><td>32.5826</td></tr><tr><th>8</th><td>7</td><td>0.798893</td><td>-8.25614e5</td><td>8.40918</td></tr><tr><th>9</th><td>8</td><td>0.799856</td><td>-8.25612e5</td><td>2.18071</td></tr><tr><th>10</th><td>9</td><td>0.800346</td><td>-825611.0</td><td>0.566906</td></tr><tr><th>11</th><td>10</td><td>0.800596</td><td>-8.25611e5</td><td>0.147561</td></tr><tr><th>12</th><td>11</td><td>0.800723</td><td>-8.25611e5</td><td>0.0384339</td></tr><tr><th>13</th><td>12</td><td>0.800788</td><td>-8.25611e5</td><td>0.0100138</td></tr><tr><th>14</th><td>13</td><td>0.800821</td><td>-8.25611e5</td><td>0.00260951</td></tr><tr><th>15</th><td>14</td><td>0.800838</td><td>-8.25611e5</td><td>0.000680072</td></tr><tr><th>16</th><td>15</td><td>0.800847</td><td>-8.25611e5</td><td>0.000177243</td></tr><tr><th>17</th><td>16</td><td>0.800852</td><td>-8.25611e5</td><td>4.61949e-5</td></tr><tr><th>18</th><td>17</td><td>0.800854</td><td>-8.25611e5</td><td>1.204e-5</td></tr><tr><th>19</th><td>18</td><td>0.800855</td><td>-8.25611e5</td><td>3.13797e-6</td></tr></tbody></table></div>"
      ],
      "text/latex": [
       "\\begin{tabular}{r|cccc}\n",
       "\t& Iteration & pi\\_hat & loglik & diff\\_loglik\\\\\n",
       "\t\\hline\n",
       "\t& Int64 & Float64 & Float64 & Float64\\\\\n",
       "\t\\hline\n",
       "\t1 & 0 & 0.5 & -8.78014e5 & NaN \\\\\n",
       "\t2 & 1 & 0.6655 & -8.3736e5 & 40653.7 \\\\\n",
       "\t3 & 2 & 0.737867 & -828371.0 & 8989.06 \\\\\n",
       "\t4 & 3 & 0.770351 & -8.26289e5 & 2081.86 \\\\\n",
       "\t5 & 4 & 0.785713 & -8.25782e5 & 506.995 \\\\\n",
       "\t6 & 5 & 0.793237 & -8.25655e5 & 127.414 \\\\\n",
       "\t7 & 6 & 0.796996 & -8.25622e5 & 32.5826 \\\\\n",
       "\t8 & 7 & 0.798893 & -8.25614e5 & 8.40918 \\\\\n",
       "\t9 & 8 & 0.799856 & -8.25612e5 & 2.18071 \\\\\n",
       "\t10 & 9 & 0.800346 & -825611.0 & 0.566906 \\\\\n",
       "\t11 & 10 & 0.800596 & -8.25611e5 & 0.147561 \\\\\n",
       "\t12 & 11 & 0.800723 & -8.25611e5 & 0.0384339 \\\\\n",
       "\t13 & 12 & 0.800788 & -8.25611e5 & 0.0100138 \\\\\n",
       "\t14 & 13 & 0.800821 & -8.25611e5 & 0.00260951 \\\\\n",
       "\t15 & 14 & 0.800838 & -8.25611e5 & 0.000680072 \\\\\n",
       "\t16 & 15 & 0.800847 & -8.25611e5 & 0.000177243 \\\\\n",
       "\t17 & 16 & 0.800852 & -8.25611e5 & 4.61949e-5 \\\\\n",
       "\t18 & 17 & 0.800854 & -8.25611e5 & 1.204e-5 \\\\\n",
       "\t19 & 18 & 0.800855 & -8.25611e5 & 3.13797e-6 \\\\\n",
       "\\end{tabular}\n"
      ],
      "text/plain": [
       "\u001b[1m19×4 DataFrame\u001b[0m\n",
       "\u001b[1m Row \u001b[0m│\u001b[1m Iteration \u001b[0m\u001b[1m pi_hat   \u001b[0m\u001b[1m loglik          \u001b[0m\u001b[1m diff_loglik     \u001b[0m\n",
       "\u001b[1m     \u001b[0m│\u001b[90m Int64     \u001b[0m\u001b[90m Float64  \u001b[0m\u001b[90m Float64         \u001b[0m\u001b[90m Float64         \u001b[0m\n",
       "─────┼───────────────────────────────────────────────────────\n",
       "   1 │         0  0.5            -8.78014e5    NaN\n",
       "   2 │         1  0.6655         -8.3736e5   40653.7\n",
       "   3 │         2  0.737867  -828371.0         8989.06\n",
       "   4 │         3  0.770351       -8.26289e5   2081.86\n",
       "   5 │         4  0.785713       -8.25782e5    506.995\n",
       "   6 │         5  0.793237       -8.25655e5    127.414\n",
       "   7 │         6  0.796996       -8.25622e5     32.5826\n",
       "   8 │         7  0.798893       -8.25614e5      8.40918\n",
       "   9 │         8  0.799856       -8.25612e5      2.18071\n",
       "  10 │         9  0.800346  -825611.0            0.566906\n",
       "  11 │        10  0.800596       -8.25611e5      0.147561\n",
       "  12 │        11  0.800723       -8.25611e5      0.0384339\n",
       "  13 │        12  0.800788       -8.25611e5      0.0100138\n",
       "  14 │        13  0.800821       -8.25611e5      0.00260951\n",
       "  15 │        14  0.800838       -8.25611e5      0.000680072\n",
       "  16 │        15  0.800847       -8.25611e5      0.000177243\n",
       "  17 │        16  0.800852       -8.25611e5      4.61949e-5\n",
       "  18 │        17  0.800854       -8.25611e5      1.204e-5\n",
       "  19 │        18  0.800855       -8.25611e5      3.13797e-6"
      ]
     },
     "execution_count": 9,
     "metadata": {},
     "output_type": "execute_result"
    }
   ],
   "source": [
    "@time progress = fit_model!(data, tolerance = 0.00001)"
   ]
  }
 ],
 "metadata": {
  "kernelspec": {
   "display_name": "Julia 1.8.1",
   "language": "julia",
   "name": "julia-1.8"
  },
  "language_info": {
   "file_extension": ".jl",
   "mimetype": "application/julia",
   "name": "julia",
   "version": "1.8.1"
  },
  "orig_nbformat": 4,
  "vscode": {
   "interpreter": {
    "hash": "80e1c376cdf93d711d123c45e2b6c6b654e50bddcaa1ec7b85cafe02fb52c70e"
   }
  }
 },
 "nbformat": 4,
 "nbformat_minor": 2
}
