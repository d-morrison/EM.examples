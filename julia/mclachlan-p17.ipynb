{
 "cells": [
  {
   "cell_type": "code",
   "execution_count": 2,
   "metadata": {},
   "outputs": [],
   "source": [
    "using DataFrames, Distributions, DataFramesMeta"
   ]
  },
  {
   "cell_type": "code",
   "execution_count": 3,
   "metadata": {},
   "outputs": [
    {
     "data": {
      "text/plain": [
       "gen_data (generic function with 1 method)"
      ]
     },
     "execution_count": 3,
     "metadata": {},
     "output_type": "execute_result"
    }
   ],
   "source": [
    "function gen_data(\n",
    "    ; \n",
    "    n = 500000, \n",
    "    mu = [0, 2], \n",
    "    sigma = 1, \n",
    "    pZ1 = 0.8)\n",
    "    \n",
    "    data = DataFrame(\n",
    "        Obs_ID = 1:n,\n",
    "        Z = (rand(Uniform(0,1), n) .> pZ1) .+ 1\n",
    "        )\n",
    "\n",
    "    @transform!(data, :Y = rand(Normal(0, sigma), n) + mu[:Z])    \n",
    "    @select!(data, :Obs_ID, :Y)\n",
    "    @transform!(data, :p_Y_given_Z_1 = pdf.(Normal(mu[1], sigma), :Y))\n",
    "    @transform!(data, :p_Y_given_Z_2 = pdf.(Normal(mu[2], sigma), :Y))\n",
    "\n",
    "    return data\n",
    "  end"
   ]
  },
  {
   "cell_type": "code",
   "execution_count": 4,
   "metadata": {},
   "outputs": [
    {
     "data": {
      "text/html": [
       "<div class=\"data-frame\"><p>6 rows × 4 columns</p><table class=\"data-frame\"><thead><tr><th></th><th>Obs_ID</th><th>Y</th><th>p_Y_given_Z_1</th><th>p_Y_given_Z_2</th></tr><tr><th></th><th title=\"Int64\">Int64</th><th title=\"Float64\">Float64</th><th title=\"Float64\">Float64</th><th title=\"Float64\">Float64</th></tr></thead><tbody><tr><th>1</th><td>1</td><td>0.00466876</td><td>0.398938</td><td>0.0544969</td></tr><tr><th>2</th><td>2</td><td>1.84976</td><td>0.0720974</td><td>0.394465</td></tr><tr><th>3</th><td>3</td><td>-0.583821</td><td>0.336431</td><td>0.0141647</td></tr><tr><th>4</th><td>4</td><td>0.676837</td><td>0.317273</td><td>0.166241</td></tr><tr><th>5</th><td>5</td><td>2.3074</td><td>0.0278482</td><td>0.380532</td></tr><tr><th>6</th><td>6</td><td>0.0370222</td><td>0.398669</td><td>0.0581006</td></tr></tbody></table></div>"
      ],
      "text/latex": [
       "\\begin{tabular}{r|cccc}\n",
       "\t& Obs\\_ID & Y & p\\_Y\\_given\\_Z\\_1 & p\\_Y\\_given\\_Z\\_2\\\\\n",
       "\t\\hline\n",
       "\t& Int64 & Float64 & Float64 & Float64\\\\\n",
       "\t\\hline\n",
       "\t1 & 1 & 0.00466876 & 0.398938 & 0.0544969 \\\\\n",
       "\t2 & 2 & 1.84976 & 0.0720974 & 0.394465 \\\\\n",
       "\t3 & 3 & -0.583821 & 0.336431 & 0.0141647 \\\\\n",
       "\t4 & 4 & 0.676837 & 0.317273 & 0.166241 \\\\\n",
       "\t5 & 5 & 2.3074 & 0.0278482 & 0.380532 \\\\\n",
       "\t6 & 6 & 0.0370222 & 0.398669 & 0.0581006 \\\\\n",
       "\\end{tabular}\n"
      ],
      "text/plain": [
       "\u001b[1m6×4 DataFrame\u001b[0m\n",
       "\u001b[1m Row \u001b[0m│\u001b[1m Obs_ID \u001b[0m\u001b[1m Y           \u001b[0m\u001b[1m p_Y_given_Z_1 \u001b[0m\u001b[1m p_Y_given_Z_2 \u001b[0m\n",
       "\u001b[1m     \u001b[0m│\u001b[90m Int64  \u001b[0m\u001b[90m Float64     \u001b[0m\u001b[90m Float64       \u001b[0m\u001b[90m Float64       \u001b[0m\n",
       "─────┼───────────────────────────────────────────────────\n",
       "   1 │      1   0.00466876      0.398938       0.0544969\n",
       "   2 │      2   1.84976         0.0720974      0.394465\n",
       "   3 │      3  -0.583821        0.336431       0.0141647\n",
       "   4 │      4   0.676837        0.317273       0.166241\n",
       "   5 │      5   2.3074          0.0278482      0.380532\n",
       "   6 │      6   0.0370222       0.398669       0.0581006"
      ]
     },
     "execution_count": 4,
     "metadata": {},
     "output_type": "execute_result"
    }
   ],
   "source": [
    "data = gen_data(n = 500000, pZ1 = 0.8);\n",
    "first(data, 6)"
   ]
  },
  {
   "cell_type": "code",
   "execution_count": 5,
   "metadata": {},
   "outputs": [
    {
     "data": {
      "text/plain": [
       "fit_model! (generic function with 1 method)"
      ]
     },
     "execution_count": 5,
     "metadata": {},
     "output_type": "execute_result"
    }
   ],
   "source": [
    "function fit_model!(\n",
    "    data; \n",
    "    pi_hat_0 = 0.5, \n",
    "    tolerance = 0.00001,\n",
    "    max_iterations = 1000,\n",
    "    verbose = false\n",
    "    )\n",
    "\n",
    "    # pre-allocate a table of results by iteration:\n",
    "    progress = DataFrame(\n",
    "        Iteration = 0:max_iterations, \n",
    "        pi_hat = Vector{Float64}(undef, max_iterations+1), \n",
    "        loglik = Vector{Float64}(undef, max_iterations+1), \n",
    "        diff_loglik = Vector{Float64}(undef, max_iterations+1)\n",
    "        )\n",
    "\n",
    "    # initial E step, to perform needed calculations for initial likelihood:\n",
    "    E_step!(data, pi_hat_0) \n",
    "    ll = loglik(data)\n",
    "    progress[1, :] = (0, pi_hat_0, ll, NaN)\n",
    "    \n",
    "    last_iter = 0\n",
    "    for i in 1:max_iterations\n",
    "\n",
    "        # M step: re-estimate parameters\n",
    "        pi_hat = M_step(data)\n",
    "\n",
    "        # E step: re-compute distribution of missing variables, using parameters\n",
    "        E_step!(data, pi_hat)\n",
    "        \n",
    "        # Assess convergence\n",
    "\n",
    "        ## save the previous log-likelihood so we can test for convergence\n",
    "        ll_old = ll\n",
    "        \n",
    "        ## here's the new log-likelihood\n",
    "        ll = loglik(data)\n",
    "\n",
    "        ll_diff = ll - ll_old\n",
    "        \n",
    "        progress[i+1,:] = (i, pi_hat, ll, ll_diff)\n",
    "        \n",
    "        if(verbose)\n",
    "            print(progress[i+1,:])\n",
    "        end\n",
    "        \n",
    "        if ll_diff < tolerance\n",
    "            last_iter = i\n",
    "            break\n",
    "        end\n",
    "    end\n",
    "    \n",
    "    return progress[1:(last_iter + 1), :]\n",
    "end"
   ]
  },
  {
   "cell_type": "code",
   "execution_count": 6,
   "metadata": {},
   "outputs": [
    {
     "data": {
      "text/plain": [
       "E_step! (generic function with 1 method)"
      ]
     },
     "execution_count": 6,
     "metadata": {},
     "output_type": "execute_result"
    }
   ],
   "source": [
    "function E_step!(data, pi_hat)\n",
    "    @transform!(data, :pY_Z1 = :p_Y_given_Z_1 .* pi_hat)\n",
    "    @transform!(data, :pY_Z2 = :p_Y_given_Z_2 .* (1- pi_hat))\n",
    "    @transform!(data, :pY = :pY_Z1 + :pY_Z2)\n",
    "    @transform!(data, :pZ1_given_Y = :pY_Z1 ./ :pY)\n",
    "end"
   ]
  },
  {
   "cell_type": "code",
   "execution_count": 7,
   "metadata": {},
   "outputs": [
    {
     "data": {
      "text/plain": [
       "M_step (generic function with 1 method)"
      ]
     },
     "execution_count": 7,
     "metadata": {},
     "output_type": "execute_result"
    }
   ],
   "source": [
    "function M_step(data)\n",
    "    data[:, :pZ1_given_Y] |> mean\n",
    "end"
   ]
  },
  {
   "cell_type": "code",
   "execution_count": 8,
   "metadata": {},
   "outputs": [
    {
     "data": {
      "text/plain": [
       "loglik (generic function with 1 method)"
      ]
     },
     "execution_count": 8,
     "metadata": {},
     "output_type": "execute_result"
    }
   ],
   "source": [
    "function loglik(data)\n",
    "    data[:, :pY] .|> log |> sum\n",
    "end"
   ]
  },
  {
   "cell_type": "code",
   "execution_count": 9,
   "metadata": {},
   "outputs": [
    {
     "name": "stdout",
     "output_type": "stream",
     "text": [
      "  1.442003 seconds (6.98 M allocations: 881.487 MiB, 10.04% gc time, 82.27% compilation time)\n"
     ]
    }
   ],
   "source": [
    "@time progress = fit_model!(data, tolerance = 0.00001);\n"
   ]
  },
  {
   "attachments": {},
   "cell_type": "markdown",
   "metadata": {},
   "source": [
    "The first run requires compilation; on subsequent calls it will be faster:"
   ]
  },
  {
   "cell_type": "code",
   "execution_count": 10,
   "metadata": {},
   "outputs": [
    {
     "name": "stdout",
     "output_type": "stream",
     "text": [
      "  0.165364 seconds (13.08 k allocations: 504.204 MiB, 24.07% gc time)\n"
     ]
    }
   ],
   "source": [
    "@time progress = fit_model!(data, tolerance = 0.00001);"
   ]
  },
  {
   "attachments": {},
   "cell_type": "markdown",
   "metadata": {},
   "source": [
    "Note that the memory allocation is also lower this time, because the first run expands the `DataFrame` `data` with additional columns which are reused in the second run:"
   ]
  },
  {
   "cell_type": "code",
   "execution_count": 12,
   "metadata": {},
   "outputs": [
    {
     "data": {
      "text/html": [
       "<div class=\"data-frame\"><p>6 rows × 8 columns (omitted printing of 1 columns)</p><table class=\"data-frame\"><thead><tr><th></th><th>Obs_ID</th><th>Y</th><th>p_Y_given_Z_1</th><th>p_Y_given_Z_2</th><th>pY_Z1</th><th>pY_Z2</th><th>pY</th></tr><tr><th></th><th title=\"Int64\">Int64</th><th title=\"Float64\">Float64</th><th title=\"Float64\">Float64</th><th title=\"Float64\">Float64</th><th title=\"Float64\">Float64</th><th title=\"Float64\">Float64</th><th title=\"Float64\">Float64</th></tr></thead><tbody><tr><th>1</th><td>1</td><td>0.00466876</td><td>0.398938</td><td>0.0544969</td><td>0.319211</td><td>0.0108911</td><td>0.330102</td></tr><tr><th>2</th><td>2</td><td>1.84976</td><td>0.0720974</td><td>0.394465</td><td>0.0576889</td><td>0.078833</td><td>0.136522</td></tr><tr><th>3</th><td>3</td><td>-0.583821</td><td>0.336431</td><td>0.0141647</td><td>0.269196</td><td>0.00283078</td><td>0.272027</td></tr><tr><th>4</th><td>4</td><td>0.676837</td><td>0.317273</td><td>0.166241</td><td>0.253867</td><td>0.0332229</td><td>0.287089</td></tr><tr><th>5</th><td>5</td><td>2.3074</td><td>0.0278482</td><td>0.380532</td><td>0.0222828</td><td>0.0760485</td><td>0.0983313</td></tr><tr><th>6</th><td>6</td><td>0.0370222</td><td>0.398669</td><td>0.0581006</td><td>0.318996</td><td>0.0116113</td><td>0.330607</td></tr></tbody></table></div>"
      ],
      "text/latex": [
       "\\begin{tabular}{r|cccccccc}\n",
       "\t& Obs\\_ID & Y & p\\_Y\\_given\\_Z\\_1 & p\\_Y\\_given\\_Z\\_2 & pY\\_Z1 & pY\\_Z2 & pY & \\\\\n",
       "\t\\hline\n",
       "\t& Int64 & Float64 & Float64 & Float64 & Float64 & Float64 & Float64 & \\\\\n",
       "\t\\hline\n",
       "\t1 & 1 & 0.00466876 & 0.398938 & 0.0544969 & 0.319211 & 0.0108911 & 0.330102 & $\\dots$ \\\\\n",
       "\t2 & 2 & 1.84976 & 0.0720974 & 0.394465 & 0.0576889 & 0.078833 & 0.136522 & $\\dots$ \\\\\n",
       "\t3 & 3 & -0.583821 & 0.336431 & 0.0141647 & 0.269196 & 0.00283078 & 0.272027 & $\\dots$ \\\\\n",
       "\t4 & 4 & 0.676837 & 0.317273 & 0.166241 & 0.253867 & 0.0332229 & 0.287089 & $\\dots$ \\\\\n",
       "\t5 & 5 & 2.3074 & 0.0278482 & 0.380532 & 0.0222828 & 0.0760485 & 0.0983313 & $\\dots$ \\\\\n",
       "\t6 & 6 & 0.0370222 & 0.398669 & 0.0581006 & 0.318996 & 0.0116113 & 0.330607 & $\\dots$ \\\\\n",
       "\\end{tabular}\n"
      ],
      "text/plain": [
       "\u001b[1m6×8 DataFrame\u001b[0m\n",
       "\u001b[1m Row \u001b[0m│\u001b[1m Obs_ID \u001b[0m\u001b[1m Y           \u001b[0m\u001b[1m p_Y_given_Z_1 \u001b[0m\u001b[1m p_Y_given_Z_2 \u001b[0m\u001b[1m pY_Z1     \u001b[0m\u001b[1m pY_Z2    \u001b[0m ⋯\n",
       "\u001b[1m     \u001b[0m│\u001b[90m Int64  \u001b[0m\u001b[90m Float64     \u001b[0m\u001b[90m Float64       \u001b[0m\u001b[90m Float64       \u001b[0m\u001b[90m Float64   \u001b[0m\u001b[90m Float64  \u001b[0m ⋯\n",
       "─────┼──────────────────────────────────────────────────────────────────────────\n",
       "   1 │      1   0.00466876      0.398938       0.0544969  0.319211   0.0108911 ⋯\n",
       "   2 │      2   1.84976         0.0720974      0.394465   0.0576889  0.078833\n",
       "   3 │      3  -0.583821        0.336431       0.0141647  0.269196   0.0028307\n",
       "   4 │      4   0.676837        0.317273       0.166241   0.253867   0.0332229\n",
       "   5 │      5   2.3074          0.0278482      0.380532   0.0222828  0.0760485 ⋯\n",
       "   6 │      6   0.0370222       0.398669       0.0581006  0.318996   0.0116113\n",
       "\u001b[36m                                                               3 columns omitted\u001b[0m"
      ]
     },
     "execution_count": 12,
     "metadata": {},
     "output_type": "execute_result"
    }
   ],
   "source": [
    "first(data, 6)"
   ]
  },
  {
   "attachments": {},
   "cell_type": "markdown",
   "metadata": {},
   "source": [
    "Here are the iterative steps and final estimate:"
   ]
  },
  {
   "cell_type": "code",
   "execution_count": null,
   "metadata": {},
   "outputs": [],
   "source": [
    "progress"
   ]
  }
 ],
 "metadata": {
  "kernelspec": {
   "display_name": "Julia 1.8.1",
   "language": "julia",
   "name": "julia-1.8"
  },
  "language_info": {
   "file_extension": ".jl",
   "mimetype": "application/julia",
   "name": "julia",
   "version": "1.8.1"
  },
  "orig_nbformat": 4,
  "vscode": {
   "interpreter": {
    "hash": "80e1c376cdf93d711d123c45e2b6c6b654e50bddcaa1ec7b85cafe02fb52c70e"
   }
  }
 },
 "nbformat": 4,
 "nbformat_minor": 2
}
