{
 "cells": [
  {
   "cell_type": "code",
   "execution_count": 10,
   "metadata": {},
   "outputs": [],
   "source": [
    "using DataFrames, Distributions, DataFramesMeta"
   ]
  },
  {
   "cell_type": "code",
   "execution_count": 11,
   "metadata": {},
   "outputs": [
    {
     "data": {
      "text/plain": [
       "gen_data (generic function with 1 method)"
      ]
     },
     "execution_count": 11,
     "metadata": {},
     "output_type": "execute_result"
    }
   ],
   "source": [
    "function gen_data(\n",
    "    ; \n",
    "    n = 500000, \n",
    "    mu = [0, 2], \n",
    "    sigma = 1, \n",
    "    pZ1 = 0.8)\n",
    "    \n",
    "    data = DataFrame(\n",
    "        Obs_ID = 1:n,\n",
    "        Z = (rand(Uniform(0,1), n) .> pZ1) .+ 1\n",
    "        )\n",
    "\n",
    "    @transform!(data, :Y = rand(Normal(0, sigma), n) + mu[:Z])    \n",
    "    @select!(data, :Obs_ID, :Y)\n",
    "    @transform!(data, :p_Y_given_Z_1 = pdf.(Normal(mu[1], sigma), :Y))\n",
    "    @transform!(data, :p_Y_given_Z_2 = pdf.(Normal(mu[2], sigma), :Y))\n",
    "\n",
    "    return data\n",
    "  end"
   ]
  },
  {
   "cell_type": "code",
   "execution_count": 12,
   "metadata": {},
   "outputs": [
    {
     "data": {
      "text/html": [
       "<div class=\"data-frame\"><p>6 rows × 4 columns</p><table class=\"data-frame\"><thead><tr><th></th><th>Obs_ID</th><th>Y</th><th>p_Y_given_Z_1</th><th>p_Y_given_Z_2</th></tr><tr><th></th><th title=\"Int64\">Int64</th><th title=\"Float64\">Float64</th><th title=\"Float64\">Float64</th><th title=\"Float64\">Float64</th></tr></thead><tbody><tr><th>1</th><td>1</td><td>-0.909342</td><td>0.263846</td><td>0.00579317</td></tr><tr><th>2</th><td>2</td><td>-0.391804</td><td>0.369467</td><td>0.0228386</td></tr><tr><th>3</th><td>3</td><td>0.564351</td><td>0.340213</td><td>0.142348</td></tr><tr><th>4</th><td>4</td><td>0.104665</td><td>0.396763</td><td>0.0661992</td></tr><tr><th>5</th><td>5</td><td>-0.350631</td><td>0.375157</td><td>0.0251809</td></tr><tr><th>6</th><td>6</td><td>0.732426</td><td>0.305086</td><td>0.178653</td></tr></tbody></table></div>"
      ],
      "text/latex": [
       "\\begin{tabular}{r|cccc}\n",
       "\t& Obs\\_ID & Y & p\\_Y\\_given\\_Z\\_1 & p\\_Y\\_given\\_Z\\_2\\\\\n",
       "\t\\hline\n",
       "\t& Int64 & Float64 & Float64 & Float64\\\\\n",
       "\t\\hline\n",
       "\t1 & 1 & -0.909342 & 0.263846 & 0.00579317 \\\\\n",
       "\t2 & 2 & -0.391804 & 0.369467 & 0.0228386 \\\\\n",
       "\t3 & 3 & 0.564351 & 0.340213 & 0.142348 \\\\\n",
       "\t4 & 4 & 0.104665 & 0.396763 & 0.0661992 \\\\\n",
       "\t5 & 5 & -0.350631 & 0.375157 & 0.0251809 \\\\\n",
       "\t6 & 6 & 0.732426 & 0.305086 & 0.178653 \\\\\n",
       "\\end{tabular}\n"
      ],
      "text/plain": [
       "\u001b[1m6×4 DataFrame\u001b[0m\n",
       "\u001b[1m Row \u001b[0m│\u001b[1m Obs_ID \u001b[0m\u001b[1m Y         \u001b[0m\u001b[1m p_Y_given_Z_1 \u001b[0m\u001b[1m p_Y_given_Z_2 \u001b[0m\n",
       "\u001b[1m     \u001b[0m│\u001b[90m Int64  \u001b[0m\u001b[90m Float64   \u001b[0m\u001b[90m Float64       \u001b[0m\u001b[90m Float64       \u001b[0m\n",
       "─────┼─────────────────────────────────────────────────\n",
       "   1 │      1  -0.909342       0.263846     0.00579317\n",
       "   2 │      2  -0.391804       0.369467     0.0228386\n",
       "   3 │      3   0.564351       0.340213     0.142348\n",
       "   4 │      4   0.104665       0.396763     0.0661992\n",
       "   5 │      5  -0.350631       0.375157     0.0251809\n",
       "   6 │      6   0.732426       0.305086     0.178653"
      ]
     },
     "execution_count": 12,
     "metadata": {},
     "output_type": "execute_result"
    }
   ],
   "source": [
    "data = gen_data(n = 500000, pZ1 = 0.8);\n",
    "first(data, 6)"
   ]
  },
  {
   "cell_type": "code",
   "execution_count": 13,
   "metadata": {},
   "outputs": [
    {
     "data": {
      "text/plain": [
       "fit_model! (generic function with 1 method)"
      ]
     },
     "execution_count": 13,
     "metadata": {},
     "output_type": "execute_result"
    }
   ],
   "source": [
    "function fit_model!(\n",
    "    data; \n",
    "    pi_hat_0 = 0.5, \n",
    "    tolerance = 0.0001,\n",
    "    max_iterations = 1000,\n",
    "    progress = DataFrame(\n",
    "        iter = 1:(max_iterations+1), \n",
    "        pi_hat = Vector{Float64}(undef, max_iterations+1), \n",
    "        ll = Vector{Float64}(undef, max_iterations+1), \n",
    "        ll_diff = Vector{Float64}(undef, max_iterations+1)\n",
    "        )\n",
    "    )\n",
    "\n",
    "    pi_hat = pi_hat_0\n",
    "    E_step!(data, pi_hat)\n",
    "    ll = loglik(data)\n",
    "    progress[1,:] = (0, pi_hat, ll, NaN)\n",
    "    \n",
    "    last_iter = 0\n",
    "    for i in 1:max_iterations\n",
    "        pi_hat = M_step(data)\n",
    "        E_step!(data, pi_hat)\n",
    "        \n",
    "        ll_old = ll\n",
    "        ll = loglik(data)\n",
    "        ll_diff = ll - ll_old\n",
    "        progress[i+1,:] = (i, pi_hat, ll, ll_diff)\n",
    "\n",
    "        if ll_diff < tolerance\n",
    "            last_iter = i\n",
    "            break\n",
    "        end\n",
    "    end\n",
    "    return progress[1:(last_iter + 1), :]\n",
    "end"
   ]
  },
  {
   "cell_type": "code",
   "execution_count": 14,
   "metadata": {},
   "outputs": [
    {
     "data": {
      "text/plain": [
       "E_step! (generic function with 1 method)"
      ]
     },
     "execution_count": 14,
     "metadata": {},
     "output_type": "execute_result"
    }
   ],
   "source": [
    "function E_step!(data, pi_hat)\n",
    "    @transform!(data, :pY_Z1 = :p_Y_given_Z_1 .* pi_hat)\n",
    "    @transform!(data, :pY_Z2 = :p_Y_given_Z_2 .* (1- pi_hat))\n",
    "    @transform!(data, :pY = :pY_Z1 + :pY_Z2)\n",
    "    @transform!(data, :pZ1_given_Y = :pY_Z1 ./ :pY)\n",
    "end"
   ]
  },
  {
   "cell_type": "code",
   "execution_count": 15,
   "metadata": {},
   "outputs": [
    {
     "data": {
      "text/plain": [
       "M_step (generic function with 1 method)"
      ]
     },
     "execution_count": 15,
     "metadata": {},
     "output_type": "execute_result"
    }
   ],
   "source": [
    "function M_step(data)\n",
    "    mean(data[!, :pZ1_given_Y])\n",
    "end"
   ]
  },
  {
   "cell_type": "code",
   "execution_count": 16,
   "metadata": {},
   "outputs": [
    {
     "data": {
      "text/plain": [
       "loglik (generic function with 1 method)"
      ]
     },
     "execution_count": 16,
     "metadata": {},
     "output_type": "execute_result"
    }
   ],
   "source": [
    "function loglik(data)\n",
    "    sum(log.(data[!, :pY]))\n",
    "end"
   ]
  },
  {
   "cell_type": "code",
   "execution_count": 17,
   "metadata": {},
   "outputs": [
    {
     "name": "stdout",
     "output_type": "stream",
     "text": [
      "  0.456945 seconds (687.27 k allocations: 398.864 MiB, 46.30% gc time, 29.05% compilation time)\n"
     ]
    }
   ],
   "source": [
    "@time progress = fit_model!(data, tolerance = .00001);\n"
   ]
  },
  {
   "attachments": {},
   "cell_type": "markdown",
   "metadata": {},
   "source": [
    "The first run requires compilation; on subsequent calls it will be faster:"
   ]
  },
  {
   "cell_type": "code",
   "execution_count": 18,
   "metadata": {},
   "outputs": [
    {
     "name": "stdout",
     "output_type": "stream",
     "text": [
      "  0.124853 seconds (12.99 k allocations: 363.058 MiB, 13.93% gc time)\n"
     ]
    },
    {
     "data": {
      "text/html": [
       "<div class=\"data-frame\"><p>19 rows × 4 columns</p><table class=\"data-frame\"><thead><tr><th></th><th>iter</th><th>pi_hat</th><th>ll</th><th>ll_diff</th></tr><tr><th></th><th title=\"Int64\">Int64</th><th title=\"Float64\">Float64</th><th title=\"Float64\">Float64</th><th title=\"Float64\">Float64</th></tr></thead><tbody><tr><th>1</th><td>0</td><td>0.5</td><td>-8.78417e5</td><td>NaN</td></tr><tr><th>2</th><td>1</td><td>0.665171</td><td>-8.37972e5</td><td>40445.4</td></tr><tr><th>3</th><td>2</td><td>0.73717</td><td>-8.29089e5</td><td>8882.77</td></tr><tr><th>4</th><td>3</td><td>0.769413</td><td>-8.27044e5</td><td>2045.07</td></tr><tr><th>5</th><td>4</td><td>0.784626</td><td>-8.26549e5</td><td>495.184</td></tr><tr><th>6</th><td>5</td><td>0.792058</td><td>-8.26425e5</td><td>123.725</td></tr><tr><th>7</th><td>6</td><td>0.795761</td><td>-8.26393e5</td><td>31.4526</td></tr><tr><th>8</th><td>7</td><td>0.797624</td><td>-8.26385e5</td><td>8.06886</td></tr><tr><th>9</th><td>8</td><td>0.798568</td><td>-8.26383e5</td><td>2.07977</td></tr><tr><th>10</th><td>9</td><td>0.799046</td><td>-8.26383e5</td><td>0.537366</td></tr><tr><th>11</th><td>10</td><td>0.799289</td><td>-8.26383e5</td><td>0.139015</td></tr><tr><th>12</th><td>11</td><td>0.799413</td><td>-8.26383e5</td><td>0.0359854</td></tr><tr><th>13</th><td>12</td><td>0.799476</td><td>-8.26382e5</td><td>0.0093182</td></tr><tr><th>14</th><td>13</td><td>0.799508</td><td>-8.26382e5</td><td>0.00241328</td></tr><tr><th>15</th><td>14</td><td>0.799524</td><td>-8.26382e5</td><td>0.000625058</td></tr><tr><th>16</th><td>15</td><td>0.799533</td><td>-8.26382e5</td><td>0.000161902</td></tr><tr><th>17</th><td>16</td><td>0.799537</td><td>-8.26382e5</td><td>4.19363e-5</td></tr><tr><th>18</th><td>17</td><td>0.799539</td><td>-8.26382e5</td><td>1.08627e-5</td></tr><tr><th>19</th><td>18</td><td>0.79954</td><td>-8.26382e5</td><td>2.81364e-6</td></tr></tbody></table></div>"
      ],
      "text/latex": [
       "\\begin{tabular}{r|cccc}\n",
       "\t& iter & pi\\_hat & ll & ll\\_diff\\\\\n",
       "\t\\hline\n",
       "\t& Int64 & Float64 & Float64 & Float64\\\\\n",
       "\t\\hline\n",
       "\t1 & 0 & 0.5 & -8.78417e5 & NaN \\\\\n",
       "\t2 & 1 & 0.665171 & -8.37972e5 & 40445.4 \\\\\n",
       "\t3 & 2 & 0.73717 & -8.29089e5 & 8882.77 \\\\\n",
       "\t4 & 3 & 0.769413 & -8.27044e5 & 2045.07 \\\\\n",
       "\t5 & 4 & 0.784626 & -8.26549e5 & 495.184 \\\\\n",
       "\t6 & 5 & 0.792058 & -8.26425e5 & 123.725 \\\\\n",
       "\t7 & 6 & 0.795761 & -8.26393e5 & 31.4526 \\\\\n",
       "\t8 & 7 & 0.797624 & -8.26385e5 & 8.06886 \\\\\n",
       "\t9 & 8 & 0.798568 & -8.26383e5 & 2.07977 \\\\\n",
       "\t10 & 9 & 0.799046 & -8.26383e5 & 0.537366 \\\\\n",
       "\t11 & 10 & 0.799289 & -8.26383e5 & 0.139015 \\\\\n",
       "\t12 & 11 & 0.799413 & -8.26383e5 & 0.0359854 \\\\\n",
       "\t13 & 12 & 0.799476 & -8.26382e5 & 0.0093182 \\\\\n",
       "\t14 & 13 & 0.799508 & -8.26382e5 & 0.00241328 \\\\\n",
       "\t15 & 14 & 0.799524 & -8.26382e5 & 0.000625058 \\\\\n",
       "\t16 & 15 & 0.799533 & -8.26382e5 & 0.000161902 \\\\\n",
       "\t17 & 16 & 0.799537 & -8.26382e5 & 4.19363e-5 \\\\\n",
       "\t18 & 17 & 0.799539 & -8.26382e5 & 1.08627e-5 \\\\\n",
       "\t19 & 18 & 0.79954 & -8.26382e5 & 2.81364e-6 \\\\\n",
       "\\end{tabular}\n"
      ],
      "text/plain": [
       "\u001b[1m19×4 DataFrame\u001b[0m\n",
       "\u001b[1m Row \u001b[0m│\u001b[1m iter  \u001b[0m\u001b[1m pi_hat   \u001b[0m\u001b[1m ll         \u001b[0m\u001b[1m ll_diff         \u001b[0m\n",
       "\u001b[1m     \u001b[0m│\u001b[90m Int64 \u001b[0m\u001b[90m Float64  \u001b[0m\u001b[90m Float64    \u001b[0m\u001b[90m Float64         \u001b[0m\n",
       "─────┼──────────────────────────────────────────────\n",
       "   1 │     0  0.5       -8.78417e5    NaN\n",
       "   2 │     1  0.665171  -8.37972e5  40445.4\n",
       "   3 │     2  0.73717   -8.29089e5   8882.77\n",
       "   4 │     3  0.769413  -8.27044e5   2045.07\n",
       "   5 │     4  0.784626  -8.26549e5    495.184\n",
       "   6 │     5  0.792058  -8.26425e5    123.725\n",
       "   7 │     6  0.795761  -8.26393e5     31.4526\n",
       "   8 │     7  0.797624  -8.26385e5      8.06886\n",
       "   9 │     8  0.798568  -8.26383e5      2.07977\n",
       "  10 │     9  0.799046  -8.26383e5      0.537366\n",
       "  11 │    10  0.799289  -8.26383e5      0.139015\n",
       "  12 │    11  0.799413  -8.26383e5      0.0359854\n",
       "  13 │    12  0.799476  -8.26382e5      0.0093182\n",
       "  14 │    13  0.799508  -8.26382e5      0.00241328\n",
       "  15 │    14  0.799524  -8.26382e5      0.000625058\n",
       "  16 │    15  0.799533  -8.26382e5      0.000161902\n",
       "  17 │    16  0.799537  -8.26382e5      4.19363e-5\n",
       "  18 │    17  0.799539  -8.26382e5      1.08627e-5\n",
       "  19 │    18  0.79954   -8.26382e5      2.81364e-6"
      ]
     },
     "execution_count": 18,
     "metadata": {},
     "output_type": "execute_result"
    }
   ],
   "source": [
    "@time progress = fit_model!(data, tolerance = .00001)"
   ]
  }
 ],
 "metadata": {
  "kernelspec": {
   "display_name": "Julia 1.8.1",
   "language": "julia",
   "name": "julia-1.8"
  },
  "language_info": {
   "file_extension": ".jl",
   "mimetype": "application/julia",
   "name": "julia",
   "version": "1.8.1"
  },
  "orig_nbformat": 4,
  "vscode": {
   "interpreter": {
    "hash": "80e1c376cdf93d711d123c45e2b6c6b654e50bddcaa1ec7b85cafe02fb52c70e"
   }
  }
 },
 "nbformat": 4,
 "nbformat_minor": 2
}
