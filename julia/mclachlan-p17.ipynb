{
 "cells": [
  {
   "cell_type": "code",
   "execution_count": 1,
   "metadata": {},
   "outputs": [],
   "source": [
    "using DataFrames, Distributions, DataFramesMeta"
   ]
  },
  {
   "cell_type": "code",
   "execution_count": 2,
   "metadata": {},
   "outputs": [
    {
     "data": {
      "text/plain": [
       "gen_data (generic function with 1 method)"
      ]
     },
     "execution_count": 2,
     "metadata": {},
     "output_type": "execute_result"
    }
   ],
   "source": [
    "function gen_data(\n",
    "    ; \n",
    "    n = 500000, \n",
    "    mu = [0, 2], \n",
    "    sigma = 1, \n",
    "    pZ1 = 0.8)\n",
    "    \n",
    "    data = DataFrame(\n",
    "        Obs_ID = 1:n,\n",
    "        Z = (rand(Uniform(0,1), n) .> pZ1) .+ 1\n",
    "        )\n",
    "\n",
    "    @transform!(data, :Y = rand(Normal(0, sigma), n) + mu[:Z])    \n",
    "    @select!(data, :Obs_ID, :Y)\n",
    "    @transform!(data, :p_Y_given_Z_1 = pdf.(Normal(mu[1], sigma), :Y))\n",
    "    @transform!(data, :p_Y_given_Z_2 = pdf.(Normal(mu[2], sigma), :Y))\n",
    "\n",
    "    return data\n",
    "  end"
   ]
  },
  {
   "cell_type": "code",
   "execution_count": 3,
   "metadata": {},
   "outputs": [
    {
     "data": {
      "text/html": [
       "<div class=\"data-frame\"><p>6 rows × 4 columns</p><table class=\"data-frame\"><thead><tr><th></th><th>Obs_ID</th><th>Y</th><th>p_Y_given_Z_1</th><th>p_Y_given_Z_2</th></tr><tr><th></th><th title=\"Int64\">Int64</th><th title=\"Float64\">Float64</th><th title=\"Float64\">Float64</th><th title=\"Float64\">Float64</th></tr></thead><tbody><tr><th>1</th><td>1</td><td>0.592501</td><td>0.334718</td><td>0.14816</td></tr><tr><th>2</th><td>2</td><td>-0.997777</td><td>0.242509</td><td>0.00446149</td></tr><tr><th>3</th><td>3</td><td>-2.2522</td><td>0.0315828</td><td>4.72743e-5</td></tr><tr><th>4</th><td>4</td><td>1.46137</td><td>0.137142</td><td>0.345073</td></tr><tr><th>5</th><td>5</td><td>1.24542</td><td>0.183696</td><td>0.300101</td></tr><tr><th>6</th><td>6</td><td>-0.312897</td><td>0.379883</td><td>0.0274968</td></tr></tbody></table></div>"
      ],
      "text/latex": [
       "\\begin{tabular}{r|cccc}\n",
       "\t& Obs\\_ID & Y & p\\_Y\\_given\\_Z\\_1 & p\\_Y\\_given\\_Z\\_2\\\\\n",
       "\t\\hline\n",
       "\t& Int64 & Float64 & Float64 & Float64\\\\\n",
       "\t\\hline\n",
       "\t1 & 1 & 0.592501 & 0.334718 & 0.14816 \\\\\n",
       "\t2 & 2 & -0.997777 & 0.242509 & 0.00446149 \\\\\n",
       "\t3 & 3 & -2.2522 & 0.0315828 & 4.72743e-5 \\\\\n",
       "\t4 & 4 & 1.46137 & 0.137142 & 0.345073 \\\\\n",
       "\t5 & 5 & 1.24542 & 0.183696 & 0.300101 \\\\\n",
       "\t6 & 6 & -0.312897 & 0.379883 & 0.0274968 \\\\\n",
       "\\end{tabular}\n"
      ],
      "text/plain": [
       "\u001b[1m6×4 DataFrame\u001b[0m\n",
       "\u001b[1m Row \u001b[0m│\u001b[1m Obs_ID \u001b[0m\u001b[1m Y         \u001b[0m\u001b[1m p_Y_given_Z_1 \u001b[0m\u001b[1m p_Y_given_Z_2 \u001b[0m\n",
       "\u001b[1m     \u001b[0m│\u001b[90m Int64  \u001b[0m\u001b[90m Float64   \u001b[0m\u001b[90m Float64       \u001b[0m\u001b[90m Float64       \u001b[0m\n",
       "─────┼─────────────────────────────────────────────────\n",
       "   1 │      1   0.592501      0.334718      0.14816\n",
       "   2 │      2  -0.997777      0.242509      0.00446149\n",
       "   3 │      3  -2.2522        0.0315828     4.72743e-5\n",
       "   4 │      4   1.46137       0.137142      0.345073\n",
       "   5 │      5   1.24542       0.183696      0.300101\n",
       "   6 │      6  -0.312897      0.379883      0.0274968"
      ]
     },
     "execution_count": 3,
     "metadata": {},
     "output_type": "execute_result"
    }
   ],
   "source": [
    "data = gen_data(n = 500000, pZ1 = 0.8);\n",
    "first(data, 6)"
   ]
  },
  {
   "cell_type": "code",
   "execution_count": 4,
   "metadata": {},
   "outputs": [
    {
     "data": {
      "text/plain": [
       "fit_model! (generic function with 1 method)"
      ]
     },
     "execution_count": 4,
     "metadata": {},
     "output_type": "execute_result"
    }
   ],
   "source": [
    "function fit_model!(\n",
    "    data; \n",
    "    pi_hat_0 = 0.5, \n",
    "    tolerance = 0.00001,\n",
    "    max_iterations = 1000,\n",
    "    progress = DataFrame(\n",
    "        Iteration = 0:max_iterations, \n",
    "        pi_hat = Vector{Float64}(undef, max_iterations+1), \n",
    "        loglik = Vector{Float64}(undef, max_iterations+1), \n",
    "        diff_loglik = Vector{Float64}(undef, max_iterations+1)\n",
    "        ),\n",
    "    verbose = false\n",
    "    )\n",
    "\n",
    "    # initial E step, to perform needed calculations for initial likelihood:\n",
    "    E_step!(data, pi_hat_0) \n",
    "    ll = loglik(data)\n",
    "    progress[1, :] = (0, pi_hat_0, ll, NaN)\n",
    "    \n",
    "    last_iter = 0\n",
    "    for i in 1:max_iterations\n",
    "\n",
    "        # M step: re-estimate parameters\n",
    "        pi_hat = M_step(data)\n",
    "\n",
    "        # E step: re-compute distribution of missing variables, using parameters\n",
    "        E_step!(data, pi_hat)\n",
    "        \n",
    "        # Assess convergence\n",
    "\n",
    "        ## save the previous log-likelihood so we can test for convergence\n",
    "        ll_old = ll\n",
    "        \n",
    "        ## here's the new log-likelihood\n",
    "        ll = loglik(data)\n",
    "\n",
    "        ll_diff = ll - ll_old\n",
    "        \n",
    "        progress[i+1,:] = (i, pi_hat, ll, ll_diff)\n",
    "        \n",
    "        if(verbose)\n",
    "            print(progress[i+1,:])\n",
    "        end\n",
    "        \n",
    "        if ll_diff < tolerance\n",
    "            last_iter = i\n",
    "            break\n",
    "        end\n",
    "    end\n",
    "    \n",
    "    return progress[1:(last_iter + 1), :]\n",
    "end"
   ]
  },
  {
   "cell_type": "code",
   "execution_count": 5,
   "metadata": {},
   "outputs": [
    {
     "data": {
      "text/plain": [
       "E_step! (generic function with 1 method)"
      ]
     },
     "execution_count": 5,
     "metadata": {},
     "output_type": "execute_result"
    }
   ],
   "source": [
    "function E_step!(data, pi_hat)\n",
    "    @transform!(data, :pY_Z1 = :p_Y_given_Z_1 .* pi_hat)\n",
    "    @transform!(data, :pY_Z2 = :p_Y_given_Z_2 .* (1- pi_hat))\n",
    "    @transform!(data, :pY = :pY_Z1 + :pY_Z2)\n",
    "    @transform!(data, :pZ1_given_Y = :pY_Z1 ./ :pY)\n",
    "end"
   ]
  },
  {
   "cell_type": "code",
   "execution_count": 6,
   "metadata": {},
   "outputs": [
    {
     "data": {
      "text/plain": [
       "M_step (generic function with 1 method)"
      ]
     },
     "execution_count": 6,
     "metadata": {},
     "output_type": "execute_result"
    }
   ],
   "source": [
    "function M_step(data)\n",
    "    data[:, :pZ1_given_Y] |> mean\n",
    "end"
   ]
  },
  {
   "cell_type": "code",
   "execution_count": 7,
   "metadata": {},
   "outputs": [
    {
     "data": {
      "text/plain": [
       "loglik (generic function with 1 method)"
      ]
     },
     "execution_count": 7,
     "metadata": {},
     "output_type": "execute_result"
    }
   ],
   "source": [
    "function loglik(data)\n",
    "    data[:, :pY] .|> log |> sum\n",
    "end"
   ]
  },
  {
   "cell_type": "code",
   "execution_count": 8,
   "metadata": {},
   "outputs": [],
   "source": [
    "@time progress = fit_model!(data, tolerance = 0.00001);\n"
   ]
  },
  {
   "attachments": {},
   "cell_type": "markdown",
   "metadata": {},
   "source": [
    "The first run requires compilation; on subsequent calls it will be faster:"
   ]
  },
  {
   "cell_type": "code",
   "execution_count": null,
   "metadata": {},
   "outputs": [
    {
     "name": "stdout",
     "output_type": "stream",
     "text": [
      "  0.145387 seconds (13.08 k allocations: 504.204 MiB, 15.44% gc time)\n"
     ]
    },
    {
     "data": {
      "text/html": [
       "<div class=\"data-frame\"><p>19 rows × 4 columns</p><table class=\"data-frame\"><thead><tr><th></th><th>Iteration</th><th>pi_hat</th><th>loglik</th><th>diff_loglik</th></tr><tr><th></th><th title=\"Int64\">Int64</th><th title=\"Float64\">Float64</th><th title=\"Float64\">Float64</th><th title=\"Float64\">Float64</th></tr></thead><tbody><tr><th>1</th><td>0</td><td>0.5</td><td>-8.77764e5</td><td>NaN</td></tr><tr><th>2</th><td>1</td><td>0.665587</td><td>-8.37076e5</td><td>40687.3</td></tr><tr><th>3</th><td>2</td><td>0.737939</td><td>-8.2809e5</td><td>8986.3</td></tr><tr><th>4</th><td>3</td><td>0.770411</td><td>-8.26009e5</td><td>2080.74</td></tr><tr><th>5</th><td>4</td><td>0.78577</td><td>-8.25502e5</td><td>506.877</td></tr><tr><th>6</th><td>5</td><td>0.793294</td><td>-825375.0</td><td>127.46</td></tr><tr><th>7</th><td>6</td><td>0.797054</td><td>-8.25342e5</td><td>32.6188</td></tr><tr><th>8</th><td>7</td><td>0.798953</td><td>-825334.0</td><td>8.42551</td></tr><tr><th>9</th><td>8</td><td>0.799917</td><td>-8.25332e5</td><td>2.18686</td></tr><tr><th>10</th><td>9</td><td>0.800408</td><td>-8.25331e5</td><td>0.569016</td></tr><tr><th>11</th><td>10</td><td>0.800658</td><td>-8.25331e5</td><td>0.148246</td></tr><tr><th>12</th><td>11</td><td>0.800786</td><td>-825331.0</td><td>0.0386476</td></tr><tr><th>13</th><td>12</td><td>0.800851</td><td>-825331.0</td><td>0.0100788</td></tr><tr><th>14</th><td>13</td><td>0.800884</td><td>-825331.0</td><td>0.00262887</td></tr><tr><th>15</th><td>14</td><td>0.800901</td><td>-825331.0</td><td>0.000685751</td></tr><tr><th>16</th><td>15</td><td>0.80091</td><td>-825331.0</td><td>0.000178889</td></tr><tr><th>17</th><td>16</td><td>0.800915</td><td>-825331.0</td><td>4.66672e-5</td></tr><tr><th>18</th><td>17</td><td>0.800917</td><td>-825331.0</td><td>1.21742e-5</td></tr><tr><th>19</th><td>18</td><td>0.800918</td><td>-825331.0</td><td>3.17581e-6</td></tr></tbody></table></div>"
      ],
      "text/latex": [
       "\\begin{tabular}{r|cccc}\n",
       "\t& Iteration & pi\\_hat & loglik & diff\\_loglik\\\\\n",
       "\t\\hline\n",
       "\t& Int64 & Float64 & Float64 & Float64\\\\\n",
       "\t\\hline\n",
       "\t1 & 0 & 0.5 & -8.77764e5 & NaN \\\\\n",
       "\t2 & 1 & 0.665587 & -8.37076e5 & 40687.3 \\\\\n",
       "\t3 & 2 & 0.737939 & -8.2809e5 & 8986.3 \\\\\n",
       "\t4 & 3 & 0.770411 & -8.26009e5 & 2080.74 \\\\\n",
       "\t5 & 4 & 0.78577 & -8.25502e5 & 506.877 \\\\\n",
       "\t6 & 5 & 0.793294 & -825375.0 & 127.46 \\\\\n",
       "\t7 & 6 & 0.797054 & -8.25342e5 & 32.6188 \\\\\n",
       "\t8 & 7 & 0.798953 & -825334.0 & 8.42551 \\\\\n",
       "\t9 & 8 & 0.799917 & -8.25332e5 & 2.18686 \\\\\n",
       "\t10 & 9 & 0.800408 & -8.25331e5 & 0.569016 \\\\\n",
       "\t11 & 10 & 0.800658 & -8.25331e5 & 0.148246 \\\\\n",
       "\t12 & 11 & 0.800786 & -825331.0 & 0.0386476 \\\\\n",
       "\t13 & 12 & 0.800851 & -825331.0 & 0.0100788 \\\\\n",
       "\t14 & 13 & 0.800884 & -825331.0 & 0.00262887 \\\\\n",
       "\t15 & 14 & 0.800901 & -825331.0 & 0.000685751 \\\\\n",
       "\t16 & 15 & 0.80091 & -825331.0 & 0.000178889 \\\\\n",
       "\t17 & 16 & 0.800915 & -825331.0 & 4.66672e-5 \\\\\n",
       "\t18 & 17 & 0.800917 & -825331.0 & 1.21742e-5 \\\\\n",
       "\t19 & 18 & 0.800918 & -825331.0 & 3.17581e-6 \\\\\n",
       "\\end{tabular}\n"
      ],
      "text/plain": [
       "\u001b[1m19×4 DataFrame\u001b[0m\n",
       "\u001b[1m Row \u001b[0m│\u001b[1m Iteration \u001b[0m\u001b[1m pi_hat   \u001b[0m\u001b[1m loglik          \u001b[0m\u001b[1m diff_loglik     \u001b[0m\n",
       "\u001b[1m     \u001b[0m│\u001b[90m Int64     \u001b[0m\u001b[90m Float64  \u001b[0m\u001b[90m Float64         \u001b[0m\u001b[90m Float64         \u001b[0m\n",
       "─────┼───────────────────────────────────────────────────────\n",
       "   1 │         0  0.5            -8.77764e5    NaN\n",
       "   2 │         1  0.665587       -8.37076e5  40687.3\n",
       "   3 │         2  0.737939       -8.2809e5    8986.3\n",
       "   4 │         3  0.770411       -8.26009e5   2080.74\n",
       "   5 │         4  0.78577        -8.25502e5    506.877\n",
       "   6 │         5  0.793294  -825375.0          127.46\n",
       "   7 │         6  0.797054       -8.25342e5     32.6188\n",
       "   8 │         7  0.798953  -825334.0            8.42551\n",
       "   9 │         8  0.799917       -8.25332e5      2.18686\n",
       "  10 │         9  0.800408       -8.25331e5      0.569016\n",
       "  11 │        10  0.800658       -8.25331e5      0.148246\n",
       "  12 │        11  0.800786  -825331.0            0.0386476\n",
       "  13 │        12  0.800851  -825331.0            0.0100788\n",
       "  14 │        13  0.800884  -825331.0            0.00262887\n",
       "  15 │        14  0.800901  -825331.0            0.000685751\n",
       "  16 │        15  0.80091   -825331.0            0.000178889\n",
       "  17 │        16  0.800915  -825331.0            4.66672e-5\n",
       "  18 │        17  0.800917  -825331.0            1.21742e-5\n",
       "  19 │        18  0.800918  -825331.0            3.17581e-6"
      ]
     },
     "execution_count": 54,
     "metadata": {},
     "output_type": "execute_result"
    }
   ],
   "source": [
    "@time progress = fit_model!(data, tolerance = 0.00001)"
   ]
  }
 ],
 "metadata": {
  "kernelspec": {
   "display_name": "Julia 1.8.1",
   "language": "julia",
   "name": "julia-1.8"
  },
  "language_info": {
   "file_extension": ".jl",
   "mimetype": "application/julia",
   "name": "julia",
   "version": "1.8.1"
  },
  "orig_nbformat": 4,
  "vscode": {
   "interpreter": {
    "hash": "80e1c376cdf93d711d123c45e2b6c6b654e50bddcaa1ec7b85cafe02fb52c70e"
   }
  }
 },
 "nbformat": 4,
 "nbformat_minor": 2
}
