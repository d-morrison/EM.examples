{
 "cells": [
  {
   "cell_type": "code",
   "execution_count": 1,
   "metadata": {},
   "outputs": [],
   "source": [
    "using DataFrames, Distributions, DataFramesMeta"
   ]
  },
  {
   "cell_type": "code",
   "execution_count": 2,
   "metadata": {},
   "outputs": [
    {
     "data": {
      "text/plain": [
       "gen_data (generic function with 1 method)"
      ]
     },
     "execution_count": 2,
     "metadata": {},
     "output_type": "execute_result"
    }
   ],
   "source": [
    "function gen_data(; n = 500000, mu = [0, 2], sigma = 1, pZ1 = 0.8)\n",
    "    data = DataFrame(\n",
    "        Obs_ID = 1:n,\n",
    "        Z = (rand(Uniform(0,1), n) .> pZ1) .+ 1\n",
    "        )\n",
    "\n",
    "    @transform!(data, :Y = rand(Normal(0, sigma), n) + mu[:Z])    \n",
    "    @select!(data, :Obs_ID, :Y)\n",
    "    @transform!(data, :p_Y_given_Z_1 = pdf.(Normal(mu[1], sigma), :Y))\n",
    "    @transform!(data, :p_Y_given_Z_2 = pdf.(Normal(mu[2], sigma), :Y))\n",
    "\n",
    "    return data\n",
    "  end"
   ]
  },
  {
   "cell_type": "code",
   "execution_count": 3,
   "metadata": {},
   "outputs": [
    {
     "data": {
      "text/html": [
       "<div class=\"data-frame\"><p>6 rows × 4 columns</p><table class=\"data-frame\"><thead><tr><th></th><th>Obs_ID</th><th>Y</th><th>p_Y_given_Z_1</th><th>p_Y_given_Z_2</th></tr><tr><th></th><th title=\"Int64\">Int64</th><th title=\"Float64\">Float64</th><th title=\"Float64\">Float64</th><th title=\"Float64\">Float64</th></tr></thead><tbody><tr><th>1</th><td>1</td><td>0.94735</td><td>0.254699</td><td>0.229242</td></tr><tr><th>2</th><td>2</td><td>-0.720732</td><td>0.307689</td><td>0.0098515</td></tr><tr><th>3</th><td>3</td><td>-0.135681</td><td>0.395287</td><td>0.0407823</td></tr><tr><th>4</th><td>4</td><td>2.87999</td><td>0.00630687</td><td>0.270866</td></tr><tr><th>5</th><td>5</td><td>-0.960182</td><td>0.2516</td><td>0.00499021</td></tr><tr><th>6</th><td>6</td><td>-0.0763223</td><td>0.397782</td><td>0.0462129</td></tr></tbody></table></div>"
      ],
      "text/latex": [
       "\\begin{tabular}{r|cccc}\n",
       "\t& Obs\\_ID & Y & p\\_Y\\_given\\_Z\\_1 & p\\_Y\\_given\\_Z\\_2\\\\\n",
       "\t\\hline\n",
       "\t& Int64 & Float64 & Float64 & Float64\\\\\n",
       "\t\\hline\n",
       "\t1 & 1 & 0.94735 & 0.254699 & 0.229242 \\\\\n",
       "\t2 & 2 & -0.720732 & 0.307689 & 0.0098515 \\\\\n",
       "\t3 & 3 & -0.135681 & 0.395287 & 0.0407823 \\\\\n",
       "\t4 & 4 & 2.87999 & 0.00630687 & 0.270866 \\\\\n",
       "\t5 & 5 & -0.960182 & 0.2516 & 0.00499021 \\\\\n",
       "\t6 & 6 & -0.0763223 & 0.397782 & 0.0462129 \\\\\n",
       "\\end{tabular}\n"
      ],
      "text/plain": [
       "\u001b[1m6×4 DataFrame\u001b[0m\n",
       "\u001b[1m Row \u001b[0m│\u001b[1m Obs_ID \u001b[0m\u001b[1m Y          \u001b[0m\u001b[1m p_Y_given_Z_1 \u001b[0m\u001b[1m p_Y_given_Z_2 \u001b[0m\n",
       "\u001b[1m     \u001b[0m│\u001b[90m Int64  \u001b[0m\u001b[90m Float64    \u001b[0m\u001b[90m Float64       \u001b[0m\u001b[90m Float64       \u001b[0m\n",
       "─────┼──────────────────────────────────────────────────\n",
       "   1 │      1   0.94735       0.254699       0.229242\n",
       "   2 │      2  -0.720732      0.307689       0.0098515\n",
       "   3 │      3  -0.135681      0.395287       0.0407823\n",
       "   4 │      4   2.87999       0.00630687     0.270866\n",
       "   5 │      5  -0.960182      0.2516         0.00499021\n",
       "   6 │      6  -0.0763223     0.397782       0.0462129"
      ]
     },
     "execution_count": 3,
     "metadata": {},
     "output_type": "execute_result"
    }
   ],
   "source": [
    "data = gen_data(n = 500000, pZ1 = 0.8);\n",
    "first(data, 6)"
   ]
  },
  {
   "cell_type": "code",
   "execution_count": 4,
   "metadata": {},
   "outputs": [
    {
     "data": {
      "text/plain": [
       "fit_model! (generic function with 1 method)"
      ]
     },
     "execution_count": 4,
     "metadata": {},
     "output_type": "execute_result"
    }
   ],
   "source": [
    "function fit_model!(\n",
    "    data; \n",
    "    pi_hat_0 = 0.5, \n",
    "    tolerance = 0.0001,\n",
    "    max_iterations = 1000,\n",
    "    progress = DataFrame(\n",
    "        iter = 1:(max_iterations+1), \n",
    "        pi_hat = Vector{Float64}(undef, max_iterations+1), \n",
    "        ll = Vector{Float64}(undef, max_iterations+1), \n",
    "        ll_diff = Vector{Float64}(undef, max_iterations+1)\n",
    "        )\n",
    "    )\n",
    "\n",
    "    pi_hat = pi_hat_0\n",
    "    E_step!(data, pi_hat)\n",
    "    ll = loglik!(data)\n",
    "    # progress = [(iter = 0, pi_hat, ll, ll_diff = NaN)]\n",
    "    progress[1,:] = (0, pi_hat, ll, NaN)\n",
    "    \n",
    "    last_iter = 0\n",
    "    for i in 1:max_iterations\n",
    "        pi_hat = M_step(data)\n",
    "        E_step!(data, pi_hat)\n",
    "        \n",
    "        ll_old = ll\n",
    "        ll = loglik!(data)\n",
    "        ll_diff = ll - ll_old\n",
    "        progress[i+1,:] = (i, pi_hat, ll, ll_diff)\n",
    "\n",
    "        if ll_diff < tolerance\n",
    "            last_iter = i\n",
    "            break\n",
    "        end\n",
    "    end\n",
    "    return progress[1:last_iter, :]\n",
    "end"
   ]
  },
  {
   "cell_type": "code",
   "execution_count": 5,
   "metadata": {},
   "outputs": [
    {
     "data": {
      "text/plain": [
       "E_step! (generic function with 1 method)"
      ]
     },
     "execution_count": 5,
     "metadata": {},
     "output_type": "execute_result"
    }
   ],
   "source": [
    "function E_step!(data, pi_hat)\n",
    "    @transform!(data, :pY_Z1 = :p_Y_given_Z_1 .* pi_hat)\n",
    "    @transform!(data, :pY_Z2 = :p_Y_given_Z_2 .* (1- pi_hat))\n",
    "    @transform!(data, :pY = :pY_Z1 + :pY_Z2)\n",
    "    @transform!(data, :pZ1_given_Y = :pY_Z1 ./ :pY)\n",
    "end"
   ]
  },
  {
   "cell_type": "code",
   "execution_count": 6,
   "metadata": {},
   "outputs": [
    {
     "data": {
      "text/plain": [
       "M_step (generic function with 1 method)"
      ]
     },
     "execution_count": 6,
     "metadata": {},
     "output_type": "execute_result"
    }
   ],
   "source": [
    "function M_step(data)\n",
    "    mean(data[!, :pZ1_given_Y])\n",
    "end"
   ]
  },
  {
   "cell_type": "code",
   "execution_count": 7,
   "metadata": {},
   "outputs": [
    {
     "data": {
      "text/plain": [
       "loglik! (generic function with 1 method)"
      ]
     },
     "execution_count": 7,
     "metadata": {},
     "output_type": "execute_result"
    }
   ],
   "source": [
    "function loglik!(data)\n",
    "    sum(log.(data[!, :pY]))\n",
    "end"
   ]
  },
  {
   "cell_type": "code",
   "execution_count": 8,
   "metadata": {},
   "outputs": [
    {
     "name": "stdout",
     "output_type": "stream",
     "text": [
      "  0.814848 seconds (3.18 M allocations: 533.181 MiB, 7.65% gc time, 82.25% compilation time)\n"
     ]
    },
    {
     "data": {
      "text/html": [
       "<div class=\"data-frame\"><p>18 rows × 4 columns</p><table class=\"data-frame\"><thead><tr><th></th><th>iter</th><th>pi_hat</th><th>ll</th><th>ll_diff</th></tr><tr><th></th><th title=\"Int64\">Int64</th><th title=\"Float64\">Float64</th><th title=\"Float64\">Float64</th><th title=\"Float64\">Float64</th></tr></thead><tbody><tr><th>1</th><td>0</td><td>0.5</td><td>-8.77138e5</td><td>NaN</td></tr><tr><th>2</th><td>1</td><td>0.664971</td><td>-8.36746e5</td><td>40392.0</td></tr><tr><th>3</th><td>2</td><td>0.737143</td><td>-8.27814e5</td><td>8931.34</td></tr><tr><th>4</th><td>3</td><td>0.769548</td><td>-8.25747e5</td><td>2067.51</td></tr><tr><th>5</th><td>4</td><td>0.784872</td><td>-8.25244e5</td><td>503.043</td></tr><tr><th>6</th><td>5</td><td>0.792374</td><td>-8.25117e5</td><td>126.271</td></tr><tr><th>7</th><td>6</td><td>0.796119</td><td>-8.25085e5</td><td>32.2466</td></tr><tr><th>8</th><td>7</td><td>0.798008</td><td>-8.25077e5</td><td>8.31041</td></tr><tr><th>9</th><td>8</td><td>0.798967</td><td>-8.25075e5</td><td>2.15187</td></tr><tr><th>10</th><td>9</td><td>0.799454</td><td>-8.25074e5</td><td>0.558553</td></tr><tr><th>11</th><td>10</td><td>0.799702</td><td>-825074.0</td><td>0.145163</td></tr><tr><th>12</th><td>11</td><td>0.799829</td><td>-825074.0</td><td>0.0377505</td></tr><tr><th>13</th><td>12</td><td>0.799893</td><td>-825074.0</td><td>0.00982046</td></tr><tr><th>14</th><td>13</td><td>0.799926</td><td>-825074.0</td><td>0.00255513</td></tr><tr><th>15</th><td>14</td><td>0.799943</td><td>-825074.0</td><td>0.000664861</td></tr><tr><th>16</th><td>15</td><td>0.799952</td><td>-825074.0</td><td>0.000173008</td></tr><tr><th>17</th><td>16</td><td>0.799956</td><td>-825074.0</td><td>4.50209e-5</td></tr><tr><th>18</th><td>17</td><td>0.799958</td><td>-825074.0</td><td>1.17156e-5</td></tr></tbody></table></div>"
      ],
      "text/latex": [
       "\\begin{tabular}{r|cccc}\n",
       "\t& iter & pi\\_hat & ll & ll\\_diff\\\\\n",
       "\t\\hline\n",
       "\t& Int64 & Float64 & Float64 & Float64\\\\\n",
       "\t\\hline\n",
       "\t1 & 0 & 0.5 & -8.77138e5 & NaN \\\\\n",
       "\t2 & 1 & 0.664971 & -8.36746e5 & 40392.0 \\\\\n",
       "\t3 & 2 & 0.737143 & -8.27814e5 & 8931.34 \\\\\n",
       "\t4 & 3 & 0.769548 & -8.25747e5 & 2067.51 \\\\\n",
       "\t5 & 4 & 0.784872 & -8.25244e5 & 503.043 \\\\\n",
       "\t6 & 5 & 0.792374 & -8.25117e5 & 126.271 \\\\\n",
       "\t7 & 6 & 0.796119 & -8.25085e5 & 32.2466 \\\\\n",
       "\t8 & 7 & 0.798008 & -8.25077e5 & 8.31041 \\\\\n",
       "\t9 & 8 & 0.798967 & -8.25075e5 & 2.15187 \\\\\n",
       "\t10 & 9 & 0.799454 & -8.25074e5 & 0.558553 \\\\\n",
       "\t11 & 10 & 0.799702 & -825074.0 & 0.145163 \\\\\n",
       "\t12 & 11 & 0.799829 & -825074.0 & 0.0377505 \\\\\n",
       "\t13 & 12 & 0.799893 & -825074.0 & 0.00982046 \\\\\n",
       "\t14 & 13 & 0.799926 & -825074.0 & 0.00255513 \\\\\n",
       "\t15 & 14 & 0.799943 & -825074.0 & 0.000664861 \\\\\n",
       "\t16 & 15 & 0.799952 & -825074.0 & 0.000173008 \\\\\n",
       "\t17 & 16 & 0.799956 & -825074.0 & 4.50209e-5 \\\\\n",
       "\t18 & 17 & 0.799958 & -825074.0 & 1.17156e-5 \\\\\n",
       "\\end{tabular}\n"
      ],
      "text/plain": [
       "\u001b[1m18×4 DataFrame\u001b[0m\n",
       "\u001b[1m Row \u001b[0m│\u001b[1m iter  \u001b[0m\u001b[1m pi_hat   \u001b[0m\u001b[1m ll              \u001b[0m\u001b[1m ll_diff         \u001b[0m\n",
       "\u001b[1m     \u001b[0m│\u001b[90m Int64 \u001b[0m\u001b[90m Float64  \u001b[0m\u001b[90m Float64         \u001b[0m\u001b[90m Float64         \u001b[0m\n",
       "─────┼───────────────────────────────────────────────────\n",
       "   1 │     0  0.5            -8.77138e5    NaN\n",
       "   2 │     1  0.664971       -8.36746e5  40392.0\n",
       "   3 │     2  0.737143       -8.27814e5   8931.34\n",
       "   4 │     3  0.769548       -8.25747e5   2067.51\n",
       "   5 │     4  0.784872       -8.25244e5    503.043\n",
       "   6 │     5  0.792374       -8.25117e5    126.271\n",
       "   7 │     6  0.796119       -8.25085e5     32.2466\n",
       "   8 │     7  0.798008       -8.25077e5      8.31041\n",
       "   9 │     8  0.798967       -8.25075e5      2.15187\n",
       "  10 │     9  0.799454       -8.25074e5      0.558553\n",
       "  11 │    10  0.799702  -825074.0            0.145163\n",
       "  12 │    11  0.799829  -825074.0            0.0377505\n",
       "  13 │    12  0.799893  -825074.0            0.00982046\n",
       "  14 │    13  0.799926  -825074.0            0.00255513\n",
       "  15 │    14  0.799943  -825074.0            0.000664861\n",
       "  16 │    15  0.799952  -825074.0            0.000173008\n",
       "  17 │    16  0.799956  -825074.0            4.50209e-5\n",
       "  18 │    17  0.799958  -825074.0            1.17156e-5"
      ]
     },
     "execution_count": 8,
     "metadata": {},
     "output_type": "execute_result"
    }
   ],
   "source": [
    "@time progress = fit_model!(data, tolerance = .00001)\n"
   ]
  }
 ],
 "metadata": {
  "kernelspec": {
   "display_name": "Julia 1.8.1",
   "language": "julia",
   "name": "julia-1.8"
  },
  "language_info": {
   "file_extension": ".jl",
   "mimetype": "application/julia",
   "name": "julia",
   "version": "1.8.1"
  },
  "orig_nbformat": 4,
  "vscode": {
   "interpreter": {
    "hash": "80e1c376cdf93d711d123c45e2b6c6b654e50bddcaa1ec7b85cafe02fb52c70e"
   }
  }
 },
 "nbformat": 4,
 "nbformat_minor": 2
}
